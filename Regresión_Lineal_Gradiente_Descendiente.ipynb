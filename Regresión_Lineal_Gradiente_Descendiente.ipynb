{
  "nbformat": 4,
  "nbformat_minor": 0,
  "metadata": {
    "colab": {
      "name": "Regresión Lineal Gradiente Descendiente.ipynb",
      "provenance": [],
      "collapsed_sections": [],
      "mount_file_id": "1td656iqfqH83lyRCWROvJ9OEfLvTT9Wu",
      "authorship_tag": "ABX9TyNxFn9zEPxbB8ECEX4KbFs3",
      "include_colab_link": true
    },
    "kernelspec": {
      "name": "python3",
      "display_name": "Python 3"
    }
  },
  "cells": [
    {
      "cell_type": "markdown",
      "metadata": {
        "id": "view-in-github",
        "colab_type": "text"
      },
      "source": [
        "<a href=\"https://colab.research.google.com/github/dantecarlo/Linear-Regression-with-Gradient-Descent/blob/master/Regresi%C3%B3n_Lineal_Gradiente_Descendiente.ipynb\" target=\"_parent\"><img src=\"https://colab.research.google.com/assets/colab-badge.svg\" alt=\"Open In Colab\"/></a>"
      ]
    },
    {
      "cell_type": "code",
      "metadata": {
        "id": "5yiUzJh2-C1Y",
        "colab_type": "code",
        "colab": {}
      },
      "source": [
        "#Importando librerias neceserias\n",
        "import numpy as np\n",
        "import pandas as pd\n",
        "\n",
        "import sklearn\n",
        "\n",
        "import matplotlib.pyplot as plt"
      ],
      "execution_count": 0,
      "outputs": []
    },
    {
      "cell_type": "code",
      "metadata": {
        "id": "in6fJUMyg45k",
        "colab_type": "code",
        "colab": {}
      },
      "source": [
        "#Encontrar hypothesis\n",
        "def hypothesis(X, Theta, b_value):\n",
        "  if(len(X.shape) == 1):\n",
        "    X = np.array([X])\n",
        "  h = np.dot(Theta.T, X) + b_value\n",
        "  return h "
      ],
      "execution_count": 0,
      "outputs": []
    },
    {
      "cell_type": "code",
      "metadata": {
        "id": "-Cpa1cpHg66t",
        "colab_type": "code",
        "colab": {}
      },
      "source": [
        "# Definir la funcion de Costo\n",
        "def cost_function(h, y):\n",
        "  m = y.shape[1]\n",
        "  J = (1 / (2 * m)) * np.sum(np.square(h-y))\n",
        "  return J"
      ],
      "execution_count": 0,
      "outputs": []
    },
    {
      "cell_type": "code",
      "metadata": {
        "id": "rCt-XzQZES5S",
        "colab_type": "code",
        "colab": {}
      },
      "source": [
        "#  Gradient Descent Univariada\n",
        "# def gradient_descent_uni(x, y, iterations = 10000, learning_rate = 0.01):\n",
        "#   grad = np.empty([1,3])\n",
        "#   m_current = b_current = 0\n",
        "#   n = len(x)\n",
        "#   plt.scatter(x, y , marker = '+', alpha = 0.8, color=\"blue\")\n",
        "#   for _ in range(iterations):\n",
        "#     y_predicted = func(x, m_current, b_current)\n",
        "    \n",
        "#     if( _ % 100 == 0 ):\n",
        "#       plt.scatter(x, y , marker = '+', alpha = 0.8, color=\"blue\")\n",
        "#       plt.plot(x, y_predicted, color = 'red')\n",
        "\n",
        "#     cost = (1/n) * sum([val**2 for val in (y - y_predicted)])\n",
        "\n",
        "#     md = -(2/n) * np.sum(x * (y - y_predicted))\n",
        "#     bd = -(2/n) * np.sum((y - y_predicted))\n",
        "\n",
        "#     m_current = m_current - learning_rate * md\n",
        "#     b_current = b_current - learning_rate * bd\n",
        "#     # print (\"m {}, b {}, cost {}\".format(m_current,b_current,cost))\n",
        "#     # plt.plot(_, cost, \".\" ,  color = 'red')\n",
        "#     grad = np.append(grad, [[m_current, b_current, cost]], axis = 0)\n",
        "#   # print(grad)\n",
        "#   return grad"
      ],
      "execution_count": 0,
      "outputs": []
    },
    {
      "cell_type": "code",
      "metadata": {
        "id": "InzuhSK7g-q6",
        "colab_type": "code",
        "colab": {}
      },
      "source": [
        "# Paso 5 Gradiente descendente: Obtener los valores\n",
        "def gradient_descent(X, y, Theta, b_value, m, h, learning_rate):\n",
        "  Theta = Theta - learning_rate * (1 / m) * np.sum((h - y) @ X.T) \n",
        "  b_value = b_value - learning_rate * (1 / m) * np.sum(h - y) \n",
        "\n",
        "  return Theta, b_value"
      ],
      "execution_count": 0,
      "outputs": []
    },
    {
      "cell_type": "code",
      "metadata": {
        "id": "yfZcKHwDhANK",
        "colab_type": "code",
        "colab": {}
      },
      "source": [
        "# Paso 6 - L.R.model\n",
        "def lineal_regression_model(X_train, y_train, X_val, y_val, learning_rate, iterations, draw = 0):\n",
        "  lenw = X_train.shape[0]\n",
        "\n",
        "  if len(X_train.shape) == 1:\n",
        "    Theta = np.zeros((1, 1))\n",
        "  else:\n",
        "    Theta = np.zeros((X_train.shape[0], 1))\n",
        "\n",
        "  b_value = 0\n",
        "  \n",
        "  costs_train = []\n",
        "  m_train = y_train.shape[1]\n",
        "  m_val = y_val.shape[1]\n",
        "\n",
        "  history_values = []\n",
        "\n",
        "  for i in range(1, iterations + 1):\n",
        "\n",
        "    h = hypothesis(X_train, Theta, b_value)\n",
        "    cost_train = cost_function(h, y_train) # Paso 3\n",
        "    Theta, b_value = gradient_descent(X_train, y_train, Theta, b_value, lenw, h, learning_rate)\n",
        "\n",
        "    RMSE_train = np.sqrt((1 / m_train) * np.sum(np.square(h - y_train)))\n",
        "    \n",
        "    if i % 10 == 0:\n",
        "      costs_train.append(cost_train)\n",
        "\n",
        "    history_values.append([Theta[:][0], b_value, RMSE_train])\n",
        "\n",
        "    # cost_val, MAE_val\n",
        "    # lenw_val = X_val.shape[0]\n",
        "    # w_val, b_val = initialize_parameters(lenw_val) # Paso 1\n",
        "    # z_val = forward_prop(X_val, w_val, b_val)\n",
        "    # cost_val = cost_function(z_val, y_val)\n",
        "    # MAE_val = (1 / m_val) * np.sum(np.abs(z_val - y_val))\n",
        "\n",
        "    # Imprimir cost_train, cost_ val, MAE_train, MAE_val\n",
        "    # print(\"Iteracion \" + str(i) + \"/\" + str(iterations) + \": \")\n",
        "    # print(\"Training cost \" + str(cost_train) + \"|\" + \"Validation cost \" + str(cost_val))\n",
        "    # print(\"Training MAE \" + str(MAE_train) + \"|\" + \"Validation MAE \" + str(MAE_val))\n",
        "    # print(\"Training b \" + str(b) + \"|\" + \"Validation b \" + str(b_val))\n",
        "    # print(\"Training z_train \" + str(z_train) + \"|\" + \"Validation z_val \" + str(z_val))\n",
        "\n",
        "  if draw :\n",
        "    plt.plot(costs_train)\n",
        "    plt.xlabel(\"Iterations(per tens)\")\n",
        "    plt.ylabel(\"Training cost\")\n",
        "    plt.title(\"Learning rate\" + str(learning_rate))\n",
        "    #plt.grid()\n",
        "    plt.show()\n",
        "  history_values = np.array(history_values)\n",
        "  return history_values"
      ],
      "execution_count": 0,
      "outputs": []
    },
    {
      "cell_type": "code",
      "metadata": {
        "id": "o9dSZrhS-S7U",
        "colab_type": "code",
        "colab": {}
      },
      "source": [
        "# Importando data\n",
        "price = pd.read_csv(\"/content/drive/My Drive/Cursos/TIA/Regresion Lineal con Gradiente Descendiente/ex1data2(Home_1f).csv\", sep='\\t')\n",
        "ocean = pd.read_csv(\"/content/drive/My Drive/Cursos/TIA/Regresion Lineal con Gradiente Descendiente/oceano_simple.csv\", sep='\\t')\n",
        "petrol = pd.read_csv(\"/content/drive/My Drive/Cursos/TIA/Regresion Lineal con Gradiente Descendiente/petrol_consumption.csv\", sep='\\t')"
      ],
      "execution_count": 0,
      "outputs": []
    },
    {
      "cell_type": "code",
      "metadata": {
        "id": "vUpfmDouFydU",
        "colab_type": "code",
        "colab": {}
      },
      "source": [
        "# Transformando a np.array\n",
        "price_X = np.array(price[\"Size_(m2)\"])\n",
        "price_Y = np.array(price[\"Price\"])\n",
        "\n",
        "ocean_X = np.array(ocean[\"Sal\"])\n",
        "ocean_Y = np.array(ocean[\"Temp\"])\n",
        "\n",
        "petrol_X = np.array(petrol[[\"Petrol_tax\", \"Average_income\", \"Paved_Highways\", \"Population_Driver_licence(%)\"]])\n",
        "petrol_Y = np.array(petrol[\"Petrol_Consumption\"])"
      ],
      "execution_count": 0,
      "outputs": []
    },
    {
      "cell_type": "code",
      "metadata": {
        "id": "PMpANHTubZDl",
        "colab_type": "code",
        "colab": {}
      },
      "source": [
        "# Funcion de regularizacion\n",
        "def regularization(matrx):\n",
        "  matrx = (matrx - np.mean(matrx)) / (2 * np.std(matrx))\n",
        "  # matrx = (matrx - np.mean(matrx)) / (np.max(matrx) - np.min(matrx))\n",
        "  return matrx"
      ],
      "execution_count": 0,
      "outputs": []
    },
    {
      "cell_type": "code",
      "metadata": {
        "id": "ZBnfUwxla28F",
        "colab_type": "code",
        "outputId": "02d62d70-9319-477e-a81d-44dfbee17e71",
        "colab": {
          "base_uri": "https://localhost:8080/",
          "height": 51
        }
      },
      "source": [
        "# Normalizar valores\n",
        "price_X = regularization(price_X)\n",
        "price_Y = regularization(price_Y)\n",
        "\n",
        "ocean_X = regularization(ocean_X)\n",
        "ocean_Y = regularization(ocean_Y)\n",
        "\n",
        "petrol_X = regularization(petrol_X)\n",
        "petrol_Y = regularization(petrol_Y)\n",
        "\n",
        "print(np.mean(ocean_X))\n",
        "print(np.std(ocean_X))"
      ],
      "execution_count": 238,
      "outputs": [
        {
          "output_type": "stream",
          "text": [
            "-1.94536244962659e-15\n",
            "0.49999999999999994\n"
          ],
          "name": "stdout"
        }
      ]
    },
    {
      "cell_type": "code",
      "metadata": {
        "id": "Xyc4RG3ksXmy",
        "colab_type": "code",
        "colab": {}
      },
      "source": [
        "# Dividiendo training set && validation set\n",
        "from sklearn.model_selection import train_test_split\n",
        "\n",
        "price_X_train, price_X_val, price_Y_train, price_Y_val = train_test_split(price_X, price_Y, test_size = 0.33, random_state = 5)\n",
        "ocean_X_train, ocean_X_val, ocean_Y_train, ocean_Y_val = train_test_split(ocean_X, ocean_Y, test_size = 0.33, random_state = 5)\n",
        "petrol_X_train, petrol_X_val, petrol_Y_train, petrol_Y_val = train_test_split(petrol_X, petrol_Y, test_size = 0.33, random_state = 5)"
      ],
      "execution_count": 0,
      "outputs": []
    },
    {
      "cell_type": "code",
      "metadata": {
        "id": "Bcbjvphft18a",
        "colab_type": "code",
        "colab": {}
      },
      "source": [
        "# Rectificando datos\n",
        "price_X_train = price_X_train.T\n",
        "price_Y_train = np.array([price_Y_train])\n",
        "\n",
        "price_X_val = price_X_val.T\n",
        "price_Y_val = np.array([price_Y_val])\n",
        "\n",
        "ocean_X_train = ocean_X_train.T\n",
        "ocean_Y_train = np.array([ocean_Y_train])\n",
        "\n",
        "ocean_X_val = ocean_X_val.T\n",
        "ocean_Y_val = np.array([ocean_Y_val])\n",
        "\n",
        "petrol_X_train = petrol_X_train.T\n",
        "petrol_Y_train = np.array([petrol_Y_train])\n",
        "\n",
        "petrol_X_val = petrol_X_val.T\n",
        "petrol_Y_val = np.array([petrol_Y_val])"
      ],
      "execution_count": 0,
      "outputs": []
    },
    {
      "cell_type": "code",
      "metadata": {
        "id": "WWzwEuHYLsnT",
        "colab_type": "code",
        "outputId": "2070ddcd-3698-4013-f3bf-78478f43a93d",
        "colab": {
          "base_uri": "https://localhost:8080/",
          "height": 902
        }
      },
      "source": [
        "# Llamando a la regresion lineal\n",
        "learning_rate = 0.01\n",
        "iterations = 5000\n",
        "print(\"Precio Viviendas\")\n",
        "history_price = lineal_regression_model(price_X_train, price_Y_train, price_X_val, price_Y_val, learning_rate, iterations, 1)\n",
        "print(\"Temperatura Oceánica\")\n",
        "history_ocean = lineal_regression_model(ocean_X_train, ocean_Y_train, ocean_X_val, ocean_Y_val, learning_rate, iterations, 1)\n",
        "print(\"Consumo de Petroleo\")\n",
        "history_petrol = lineal_regression_model(petrol_X_train, petrol_Y_train, petrol_X_val, petrol_Y_val, learning_rate, iterations, 1)"
      ],
      "execution_count": 241,
      "outputs": [
        {
          "output_type": "stream",
          "text": [
            "Precio Viviendas\n"
          ],
          "name": "stdout"
        },
        {
          "output_type": "display_data",
          "data": {
            "image/png": "[encoded data removed]",
            "text/plain": [
              "<Figure size 432x288 with 1 Axes>"
            ]
          },
          "metadata": {
            "tags": [],
            "needs_background": "light"
          }
        },
        {
          "output_type": "stream",
          "text": [
            "Temperatura Oceánica\n"
          ],
          "name": "stdout"
        },
        {
          "output_type": "display_data",
          "data": {
            "image/png": "[encoded data removed]",
            "text/plain": [
              "<Figure size 432x288 with 1 Axes>"
            ]
          },
          "metadata": {
            "tags": [],
            "needs_background": "light"
          }
        },
        {
          "output_type": "stream",
          "text": [
            "Consumo de Petroleo\n"
          ],
          "name": "stdout"
        },
        {
          "output_type": "display_data",
          "data": {
            "image/png": "[encoded data removed]",
            "text/plain": [
              "<Figure size 432x288 with 1 Axes>"
            ]
          },
          "metadata": {
            "tags": [],
            "needs_background": "light"
          }
        }
      ]
    },
    {
      "cell_type": "code",
      "metadata": {
        "id": "VdYrImJ28lRM",
        "colab_type": "code",
        "outputId": "93b0519f-4021-4cc7-9b17-a1a32c9f9f8d",
        "colab": {
          "base_uri": "https://localhost:8080/",
          "height": 384
        }
      },
      "source": [
        "# Grafica Datos price\n",
        "print(history_price)\n",
        "m = history_price.item((-1,0)).item(0)\n",
        "b = history_price.item((-1,1))\n",
        "\n",
        "print(\"m: \" + str(m) + \"| b: \" + str(b))\n",
        "m_history_price = history_price[:,0]\n",
        "b_history_price = history_price[:,1]\n",
        "\n",
        "fig = plt.figure()\n",
        "ax = fig.add_subplot(1, 1, 1)\n",
        "x = np.linspace(-5,5,100).T\n",
        "ax.spines['left'].set_position('center')\n",
        "ax.spines['bottom'].set_position('center')\n",
        "ax.spines['right'].set_color('none')\n",
        "ax.spines['top'].set_color('none')\n",
        "ax.xaxis.set_ticks_position('bottom')\n",
        "ax.yaxis.set_ticks_position('left')\n",
        "plt.scatter(price_X_train, price_Y_train)\n",
        "x = np.arange(-1, 2, 0.2)\n",
        "y = m * x + b\n",
        "plt.plot(x, y, '-r')\n",
        "plt.grid()\n",
        "plt.show()"
      ],
      "execution_count": 242,
      "outputs": [
        {
          "output_type": "stream",
          "text": [
            "[[array([0.00272881]) -0.00030901059817103844 0.5253527030896823]\n",
            " [array([0.00544872]) -0.0006143365032080701 0.5239175756008754]\n",
            " [array([0.00815975]) -0.0009160165027152637 0.5224882098856489]\n",
            " ...\n",
            " [array([0.8415822]) -0.01256363410815337 0.21437168029690895]\n",
            " [array([0.8415822]) -0.012563634099940001 0.21437168029690892]\n",
            " [array([0.8415822]) -0.01256363409175318 0.2143716802969089]]\n",
            "m: 0.8415822048819982| b: -0.01256363409175318\n"
          ],
          "name": "stdout"
        },
        {
          "output_type": "display_data",
          "data": {
            "image/png": "[encoded data removed]",
            "text/plain": [
              "<Figure size 432x288 with 1 Axes>"
            ]
          },
          "metadata": {
            "tags": [],
            "needs_background": "light"
          }
        }
      ]
    },
    {
      "cell_type": "code",
      "metadata": {
        "id": "Ir52tfTanJEp",
        "colab_type": "code",
        "outputId": "cdc1b43f-8e69-4083-c540-60aac8df5c40",
        "colab": {
          "base_uri": "https://localhost:8080/",
          "height": 282
        }
      },
      "source": [
        "# Ecuacion Normal price\n",
        "X_1 = np.array([np.ones(np.shape(price_X_train)[0]), price_X_train]).T\n",
        "B = np.linalg.inv(X_1.T @ X_1) @ X_1.T @ price_Y_train.T\n",
        "m = B[1]\n",
        "b = B[0]\n",
        "print(\"m:\" +  str(B[1]))\n",
        "print(\"b:\" +  str(B[0]))\n",
        "\n",
        "fig = plt.figure()\n",
        "ax = fig.add_subplot(1, 1, 1)\n",
        "x = np.linspace(-5,5,100)\n",
        "ax.spines['left'].set_position('center')\n",
        "ax.spines['bottom'].set_position('center')\n",
        "ax.spines['right'].set_color('none')\n",
        "ax.spines['top'].set_color('none')\n",
        "ax.xaxis.set_ticks_position('bottom')\n",
        "ax.yaxis.set_ticks_position('left')\n",
        "plt.scatter(price_X_train, price_Y_train)\n",
        "x = np.arange(-1, 2, 0.2)\n",
        "y = m * x + b\n",
        "plt.plot(x, y, '-r')\n",
        "plt.grid()\n",
        "plt.show()"
      ],
      "execution_count": 243,
      "outputs": [
        {
          "output_type": "stream",
          "text": [
            "m:[0.84158228]\n",
            "b:[-0.01256363]\n"
          ],
          "name": "stdout"
        },
        {
          "output_type": "display_data",
          "data": {
            "image/png": "[encoded data removed]",
            "text/plain": [
              "<Figure size 432x288 with 1 Axes>"
            ]
          },
          "metadata": {
            "tags": [],
            "needs_background": "light"
          }
        }
      ]
    },
    {
      "cell_type": "code",
      "metadata": {
        "id": "Vd0Dfrg_CdH6",
        "colab_type": "code",
        "outputId": "60d4ada0-bf31-4e83-90aa-19dd2a951819",
        "colab": {
          "base_uri": "https://localhost:8080/",
          "height": 267
        }
      },
      "source": [
        "# Grafica Datos ocean\n",
        "m = history_ocean.item((-1,0)).item(0)\n",
        "b = history_ocean.item((-1,1))\n",
        "\n",
        "print(\"m: \" + str(m) + \"| b: \" + str(b))\n",
        "m_history_ocean = history_ocean[:,0]\n",
        "b_history_ocean = history_ocean[:,1]\n",
        "\n",
        "fig = plt.figure()\n",
        "ax = fig.add_subplot(1, 1, 1)\n",
        "x = np.linspace(-5,5,100).T\n",
        "ax.spines['left'].set_position('center')\n",
        "ax.spines['bottom'].set_position('center')\n",
        "ax.spines['right'].set_color('none')\n",
        "ax.spines['top'].set_color('none')\n",
        "ax.xaxis.set_ticks_position('bottom')\n",
        "ax.yaxis.set_ticks_position('left')\n",
        "plt.scatter(ocean_X_train, ocean_Y_train)\n",
        "x = np.arange(-1, 2, 0.2)\n",
        "y = m * x + b\n",
        "plt.plot(x, y, '-r')\n",
        "plt.grid()\n",
        "plt.show()"
      ],
      "execution_count": 244,
      "outputs": [
        {
          "output_type": "stream",
          "text": [
            "m: -0.9131260072902373| b: -0.004301953964567279\n"
          ],
          "name": "stdout"
        },
        {
          "output_type": "display_data",
          "data": {
            "image/png": "[encoded data removed]",
            "text/plain": [
              "<Figure size 432x288 with 1 Axes>"
            ]
          },
          "metadata": {
            "tags": [],
            "needs_background": "light"
          }
        }
      ]
    },
    {
      "cell_type": "code",
      "metadata": {
        "id": "qsz0VjOJan1u",
        "colab_type": "code",
        "outputId": "0562af01-78b1-481c-8f12-eaef70886da7",
        "colab": {
          "base_uri": "https://localhost:8080/",
          "height": 102
        }
      },
      "source": [
        "# Tabla RMSE\n",
        "print(\" ----------------------------------------------------------------------------\")\n",
        "print(\"|          | Precio Viviendas   | Temperatura Oceanica | Consumo de Petróleo |\")\n",
        "print(\" ----------------------------------------------------------------------------\")\n",
        "print(\"|   RMSE   | \" + str(history_price[-1].item(2)) + \" | \" + str(history_ocean[-1].item(2)) + \"   | \" + str(history_petrol[-1].item(2)) + \"  |\")\n",
        "print(\" ----------------------------------------------------------------------------\")\n"
      ],
      "execution_count": 245,
      "outputs": [
        {
          "output_type": "stream",
          "text": [
            " ----------------------------------------------------------------------------\n",
            "|          | Precio Viviendas   | Temperatura Oceanica | Consumo de Petróleo |\n",
            " ----------------------------------------------------------------------------\n",
            "|   RMSE   | 0.2143716802969089 | 0.19752922638199233   | 0.516106928292309  |\n",
            " ----------------------------------------------------------------------------\n"
          ],
          "name": "stdout"
        }
      ]
    },
    {
      "cell_type": "code",
      "metadata": {
        "id": "njDvqK-pCigy",
        "colab_type": "code",
        "outputId": "aa4f55f3-4083-4002-9530-5353251cf795",
        "colab": {
          "base_uri": "https://localhost:8080/",
          "height": 284
        }
      },
      "source": [
        "# Ecuacion Normal ocean\n",
        "X_1 = np.array([np.ones(np.shape(ocean_X_train)[0]), ocean_X_train]).T\n",
        "B = np.linalg.inv(X_1.T @ X_1) @ X_1.T @ ocean_Y_train.T\n",
        "m = B[1]\n",
        "b = B[0]\n",
        "print(\"m:\" +  str(B[1]))\n",
        "print(\"b:\" +  str(B[0]))\n",
        "\n",
        "fig = plt.figure()\n",
        "ax = fig.add_subplot(1, 1, 1)\n",
        "x = np.linspace(-5,5,100)\n",
        "ax.spines['left'].set_position('center')\n",
        "ax.spines['bottom'].set_position('center')\n",
        "ax.spines['right'].set_color('none')\n",
        "ax.spines['top'].set_color('none')\n",
        "ax.xaxis.set_ticks_position('bottom')\n",
        "ax.yaxis.set_ticks_position('left')\n",
        "plt.scatter(ocean_X_train, ocean_Y_train)\n",
        "x = np.arange(-1, 2, 0.2)\n",
        "y = m * x + b\n",
        "plt.plot(x, y, '-r')\n",
        "plt.grid()\n",
        "plt.show()"
      ],
      "execution_count": 246,
      "outputs": [
        {
          "output_type": "stream",
          "text": [
            "m:[-0.91312856]\n",
            "b:[-0.00430199]\n"
          ],
          "name": "stdout"
        },
        {
          "output_type": "display_data",
          "data": {
            "image/png": "[encoded data removed]",
            "text/plain": [
              "<Figure size 432x288 with 1 Axes>"
            ]
          },
          "metadata": {
            "tags": [],
            "needs_background": "light"
          }
        }
      ]
    },
    {
      "cell_type": "code",
      "metadata": {
        "id": "YzCROu3dee5S",
        "colab_type": "code",
        "outputId": "807d1c38-7780-42ef-d72e-90a10fb68f21",
        "colab": {
          "base_uri": "https://localhost:8080/",
          "height": 71
        }
      },
      "source": [
        "# Hiperparametros Optimos\n",
        "learning_rate_v = [0.01, 0.05, 0.1, 0.2, 0.3, 0.4]\n",
        "iterations_v = [*range(500, 3500, 500)]\n",
        "history_price = []\n",
        "\n",
        "for learning_rate in learning_rate_v:\n",
        "  for iterations in iterations_v:\n",
        "    history = lineal_regression_model(price_X_train, price_Y_train, price_X_val, price_Y_val, learning_rate, iterations)\n",
        "    history_price.append([learning_rate, iterations, history[-1].item(2)])\n",
        "\n",
        "print(history_price)\n",
        "\n",
        "history_ocean = []\n",
        "\n",
        "for learning_rate in learning_rate_v:\n",
        "  for iterations in iterations_v:\n",
        "    history = lineal_regression_model(ocean_X_train, ocean_Y_train, ocean_X_val, ocean_Y_val, learning_rate, iterations)\n",
        "    history_ocean.append([learning_rate, iterations, history[-1].item(2)])\n",
        "\n",
        "print(history_ocean)\n"
      ],
      "execution_count": 256,
      "outputs": [
        {
          "output_type": "stream",
          "text": [
            "[[0.01, 500, 0.23448697353945216], [0.01, 1000, 0.21519694918365306], [0.01, 1500, 0.21440414362944019], [0.01, 2000, 0.21437295503233023], [0.01, 2500, 0.21437173034835377], [0.01, 3000, 0.21437168226212827], [0.05, 500, 0.21437172651276445], [0.05, 1000, 0.21437168029690812], [0.05, 1500, 0.2143716802969042], [0.05, 2000, 0.2143716802969042], [0.05, 2500, 0.21437168029690423], [0.05, 3000, 0.21437168029690423], [0.1, 500, 0.21437168029690729], [0.1, 1000, 0.21437168029690423], [0.1, 1500, 0.2143716802969042], [0.1, 2000, 0.2143716802969042], [0.1, 2500, 0.2143716802969042], [0.1, 3000, 0.2143716802969042], [0.2, 500, 0.21437168029690423], [0.2, 1000, 0.21437168029690423], [0.2, 1500, 0.21437168029690423], [0.2, 2000, 0.21437168029690423], [0.2, 2500, 0.21437168029690423], [0.2, 3000, 0.21437168029690423], [0.3, 500, 0.21437168029690423], [0.3, 1000, 0.21437168029690423], [0.3, 1500, 0.21437168029690423], [0.3, 2000, 0.21437168029690423], [0.3, 2500, 0.21437168029690423], [0.3, 3000, 0.21437168029690423], [0.4, 500, 0.21437168029690423], [0.4, 1000, 0.21437168029690423], [0.4, 1500, 0.21437168029690423], [0.4, 2000, 0.21437168029690423], [0.4, 2500, 0.21437168029690423], [0.4, 3000, 0.21437168029690423]]\n",
            "[[0.01, 500, 0.23581564315476383], [0.01, 1000, 0.20075822464251836], [0.01, 1500, 0.19778140719548698], [0.01, 2000, 0.19754878569973608], [0.01, 2500, 0.1975307425890921], [0.01, 3000, 0.1975293439073847], [0.05, 500, 0.19753067541865754], [0.05, 1000, 0.1975292263815457], [0.05, 1500, 0.1975292263777491], [0.05, 2000, 0.1975292263777491], [0.05, 2500, 0.19752922637774914], [0.05, 3000, 0.1975292263777491], [0.1, 500, 0.19752922638104545], [0.1, 1000, 0.1975292263777491], [0.1, 1500, 0.1975292263777491], [0.1, 2000, 0.1975292263777491], [0.1, 2500, 0.1975292263777491], [0.1, 3000, 0.1975292263777491], [0.2, 500, 0.1975292263777491], [0.2, 1000, 0.1975292263777491], [0.2, 1500, 0.1975292263777491], [0.2, 2000, 0.1975292263777491], [0.2, 2500, 0.1975292263777491], [0.2, 3000, 0.1975292263777491], [0.3, 500, 0.1975292263777491], [0.3, 1000, 0.1975292263777491], [0.3, 1500, 0.19752922637774914], [0.3, 2000, 0.19752922637774914], [0.3, 2500, 0.1975292263777491], [0.3, 3000, 0.1975292263777491], [0.4, 500, 0.19752922637774914], [0.4, 1000, 0.19752922637774914], [0.4, 1500, 0.19752922637774914], [0.4, 2000, 0.19752922637774914], [0.4, 2500, 0.19752922637774914], [0.4, 3000, 0.19752922637774914]]\n"
          ],
          "name": "stdout"
        }
      ]
    },
    {
      "cell_type": "code",
      "metadata": {
        "id": "jMsgT-zXmGM7",
        "colab_type": "code",
        "outputId": "b03d68d5-515d-4c53-d688-819120d91770",
        "colab": {
          "base_uri": "https://localhost:8080/",
          "height": 1000
        }
      },
      "source": [
        "print(\"Precio Viviendas\")\n",
        "print(\" -------------------------------------------\")\n",
        "print(\"| Tasa de Aprendizaje | Iteraciones | RMSE |\")\n",
        "print(\" -------------------------------------------\")\n",
        "for his in history_price:  \n",
        "  print(\"| \" + str(his[0]) +                \" | \" + str(his[1]) + \"    | \" + str(his[2]) + \"  |\")\n",
        "print(\" -------------------------------------------\")\n",
        "\n",
        "print(\"Temperatura Oceanica\")\n",
        "print(\" -------------------------------------------\")\n",
        "print(\"| Tasa de Aprendizaje | Iteraciones | RMSE |\")\n",
        "print(\" -------------------------------------------\")\n",
        "for his in history_ocean:  \n",
        "  print(\"| \" + str(his[0]) +                \" | \" + str(his[1]) + \"    | \" + str(his[2]) + \"  |\")\n",
        "print(\" -------------------------------------------\")\n",
        "\n",
        "# print(\"Consumo de Petróleo\")\n",
        "# print(\" -------------------------------------------\")\n",
        "# print(\"| Tasa de Aprendizaje | Iteraciones | RMSE |\")\n",
        "# print(\" -------------------------------------------\")\n",
        "# for his in history_v:  \n",
        "#   print(\"| \" + str(his[0]) +                \" | \" + str(his[1]) + \"    | \" + str(his[2]) + \"  |\")\n",
        "# print(\" -------------------------------------------\")"
      ],
      "execution_count": 257,
      "outputs": [
        {
          "output_type": "stream",
          "text": [
            "Precio Viviendas\n",
            " -------------------------------------------\n",
            "| Tasa de Aprendizaje | Iteraciones | RMSE |\n",
            " -------------------------------------------\n",
            "| 0.01 | 500    | 0.23448697353945216  |\n",
            "| 0.01 | 1000    | 0.21519694918365306  |\n",
            "| 0.01 | 1500    | 0.21440414362944019  |\n",
            "| 0.01 | 2000    | 0.21437295503233023  |\n",
            "| 0.01 | 2500    | 0.21437173034835377  |\n",
            "| 0.01 | 3000    | 0.21437168226212827  |\n",
            "| 0.05 | 500    | 0.21437172651276445  |\n",
            "| 0.05 | 1000    | 0.21437168029690812  |\n",
            "| 0.05 | 1500    | 0.2143716802969042  |\n",
            "| 0.05 | 2000    | 0.2143716802969042  |\n",
            "| 0.05 | 2500    | 0.21437168029690423  |\n",
            "| 0.05 | 3000    | 0.21437168029690423  |\n",
            "| 0.1 | 500    | 0.21437168029690729  |\n",
            "| 0.1 | 1000    | 0.21437168029690423  |\n",
            "| 0.1 | 1500    | 0.2143716802969042  |\n",
            "| 0.1 | 2000    | 0.2143716802969042  |\n",
            "| 0.1 | 2500    | 0.2143716802969042  |\n",
            "| 0.1 | 3000    | 0.2143716802969042  |\n",
            "| 0.2 | 500    | 0.21437168029690423  |\n",
            "| 0.2 | 1000    | 0.21437168029690423  |\n",
            "| 0.2 | 1500    | 0.21437168029690423  |\n",
            "| 0.2 | 2000    | 0.21437168029690423  |\n",
            "| 0.2 | 2500    | 0.21437168029690423  |\n",
            "| 0.2 | 3000    | 0.21437168029690423  |\n",
            "| 0.3 | 500    | 0.21437168029690423  |\n",
            "| 0.3 | 1000    | 0.21437168029690423  |\n",
            "| 0.3 | 1500    | 0.21437168029690423  |\n",
            "| 0.3 | 2000    | 0.21437168029690423  |\n",
            "| 0.3 | 2500    | 0.21437168029690423  |\n",
            "| 0.3 | 3000    | 0.21437168029690423  |\n",
            "| 0.4 | 500    | 0.21437168029690423  |\n",
            "| 0.4 | 1000    | 0.21437168029690423  |\n",
            "| 0.4 | 1500    | 0.21437168029690423  |\n",
            "| 0.4 | 2000    | 0.21437168029690423  |\n",
            "| 0.4 | 2500    | 0.21437168029690423  |\n",
            "| 0.4 | 3000    | 0.21437168029690423  |\n",
            " -------------------------------------------\n",
            "Temperatura Oceanica\n",
            " -------------------------------------------\n",
            "| Tasa de Aprendizaje | Iteraciones | RMSE |\n",
            " -------------------------------------------\n",
            "| 0.01 | 500    | 0.23581564315476383  |\n",
            "| 0.01 | 1000    | 0.20075822464251836  |\n",
            "| 0.01 | 1500    | 0.19778140719548698  |\n",
            "| 0.01 | 2000    | 0.19754878569973608  |\n",
            "| 0.01 | 2500    | 0.1975307425890921  |\n",
            "| 0.01 | 3000    | 0.1975293439073847  |\n",
            "| 0.05 | 500    | 0.19753067541865754  |\n",
            "| 0.05 | 1000    | 0.1975292263815457  |\n",
            "| 0.05 | 1500    | 0.1975292263777491  |\n",
            "| 0.05 | 2000    | 0.1975292263777491  |\n",
            "| 0.05 | 2500    | 0.19752922637774914  |\n",
            "| 0.05 | 3000    | 0.1975292263777491  |\n",
            "| 0.1 | 500    | 0.19752922638104545  |\n",
            "| 0.1 | 1000    | 0.1975292263777491  |\n",
            "| 0.1 | 1500    | 0.1975292263777491  |\n",
            "| 0.1 | 2000    | 0.1975292263777491  |\n",
            "| 0.1 | 2500    | 0.1975292263777491  |\n",
            "| 0.1 | 3000    | 0.1975292263777491  |\n",
            "| 0.2 | 500    | 0.1975292263777491  |\n",
            "| 0.2 | 1000    | 0.1975292263777491  |\n",
            "| 0.2 | 1500    | 0.1975292263777491  |\n",
            "| 0.2 | 2000    | 0.1975292263777491  |\n",
            "| 0.2 | 2500    | 0.1975292263777491  |\n",
            "| 0.2 | 3000    | 0.1975292263777491  |\n",
            "| 0.3 | 500    | 0.1975292263777491  |\n",
            "| 0.3 | 1000    | 0.1975292263777491  |\n",
            "| 0.3 | 1500    | 0.19752922637774914  |\n",
            "| 0.3 | 2000    | 0.19752922637774914  |\n",
            "| 0.3 | 2500    | 0.1975292263777491  |\n",
            "| 0.3 | 3000    | 0.1975292263777491  |\n",
            "| 0.4 | 500    | 0.19752922637774914  |\n",
            "| 0.4 | 1000    | 0.19752922637774914  |\n",
            "| 0.4 | 1500    | 0.19752922637774914  |\n",
            "| 0.4 | 2000    | 0.19752922637774914  |\n",
            "| 0.4 | 2500    | 0.19752922637774914  |\n",
            "| 0.4 | 3000    | 0.19752922637774914  |\n",
            " -------------------------------------------\n"
          ],
          "name": "stdout"
        }
      ]
    },
    {
      "cell_type": "code",
      "metadata": {
        "id": "MFiMBrUxrK6s",
        "colab_type": "code",
        "colab": {
          "base_uri": "https://localhost:8080/",
          "height": 935
        },
        "outputId": "e881c875-b86a-4740-86e2-d4f54108e435"
      },
      "source": [
        "# history_petrol = []\n",
        "print(\"Consumo de Petróleo\")\n",
        "print(\" -------------------------------------------\")\n",
        "print(\"| Tasa de Aprendizaje | Iteraciones | RMSE |\")\n",
        "print(\" -------------------------------------------\")\n",
        "# for his in history_v:  \n",
        "#   print(\"| \" + str(his[0]) +                \" | \" + str(his[1]) + \"    | \" + str(his[2]) + \"  |\")\n",
        "for learning_rate in learning_rate_v:\n",
        "  for iterations in iterations_v:\n",
        "    history = lineal_regression_model(petrol_X_train, petrol_Y_train, petrol_X_val, petrol_Y_val, learning_rate, iterations)\n",
        "    # history_petrol.append([learning_rate, iterations, history[-1].item(2)])\n",
        "    print(\"| \" + str(learning_rate) +                \" | \" + str(iterations) + \"    | \" + str(history[-1].item(2)) + \"  |\")\n",
        "print(\" -------------------------------------------\")\n",
        "\n",
        "# print(history_petrol)"
      ],
      "execution_count": 250,
      "outputs": [
        {
          "output_type": "stream",
          "text": [
            "Consumo de Petróleo\n",
            " -------------------------------------------\n",
            "| Tasa de Aprendizaje | Iteraciones | RMSE |\n",
            " -------------------------------------------\n",
            "| 0.01 | 500    | 0.5161069282923093  |\n",
            "| 0.01 | 1000    | 0.516106928292309  |\n",
            "| 0.01 | 1500    | 0.516106928292309  |\n",
            "| 0.01 | 2000    | 0.516106928292309  |\n",
            "| 0.01 | 2500    | 0.516106928292309  |\n",
            "| 0.01 | 3000    | 0.516106928292309  |\n",
            "| 0.05 | 500    | 0.516106928292309  |\n",
            "| 0.05 | 1000    | 0.516106928292309  |\n",
            "| 0.05 | 1500    | 0.516106928292309  |\n",
            "| 0.05 | 2000    | 0.516106928292309  |\n",
            "| 0.05 | 2500    | 0.516106928292309  |\n",
            "| 0.05 | 3000    | 0.516106928292309  |\n",
            "| 0.1 | 500    | 0.516106928292309  |\n",
            "| 0.1 | 1000    | 0.516106928292309  |\n",
            "| 0.1 | 1500    | 0.516106928292309  |\n",
            "| 0.1 | 2000    | 0.516106928292309  |\n",
            "| 0.1 | 2500    | 0.516106928292309  |\n",
            "| 0.1 | 3000    | 0.516106928292309  |\n",
            "| 0.2 | 500    | 0.516106928292309  |\n",
            "| 0.2 | 1000    | 0.516106928292309  |\n",
            "| 0.2 | 1500    | 0.516106928292309  |\n",
            "| 0.2 | 2000    | 0.516106928292309  |\n",
            "| 0.2 | 2500    | 0.516106928292309  |\n",
            "| 0.2 | 3000    | 0.516106928292309  |\n",
            "| 0.3 | 500    | 4.910959860440307e+78  |\n",
            "| 0.3 | 1000    | inf  |\n",
            "| 0.3 | 1500    | inf  |\n",
            "| 0.3 | 2000    | nan  |\n"
          ],
          "name": "stdout"
        },
        {
          "output_type": "stream",
          "text": [
            "/usr/local/lib/python3.6/dist-packages/numpy/core/fromnumeric.py:90: RuntimeWarning: overflow encountered in reduce\n",
            "  return ufunc.reduce(obj, axis, dtype, out, **passkwargs)\n",
            "/usr/local/lib/python3.6/dist-packages/ipykernel_launcher.py:3: RuntimeWarning: overflow encountered in square\n",
            "  This is separate from the ipykernel package so we can avoid doing imports until\n",
            "/usr/local/lib/python3.6/dist-packages/ipykernel_launcher.py:23: RuntimeWarning: overflow encountered in square\n",
            "/usr/local/lib/python3.6/dist-packages/ipykernel_launcher.py:2: RuntimeWarning: invalid value encountered in matmul\n",
            "  \n",
            "/usr/local/lib/python3.6/dist-packages/numpy/core/fromnumeric.py:90: RuntimeWarning: invalid value encountered in reduce\n",
            "  return ufunc.reduce(obj, axis, dtype, out, **passkwargs)\n",
            "/usr/local/lib/python3.6/dist-packages/ipykernel_launcher.py:3: RuntimeWarning: invalid value encountered in double_scalars\n",
            "  This is separate from the ipykernel package so we can avoid doing imports until\n"
          ],
          "name": "stderr"
        },
        {
          "output_type": "stream",
          "text": [
            "| 0.3 | 2500    | nan  |\n",
            "| 0.3 | 3000    | nan  |\n",
            "| 0.4 | 500    | inf  |\n",
            "| 0.4 | 1000    | nan  |\n",
            "| 0.4 | 1500    | nan  |\n",
            "| 0.4 | 2000    | nan  |\n"
          ],
          "name": "stdout"
        },
        {
          "output_type": "stream",
          "text": [
            "/usr/local/lib/python3.6/dist-packages/ipykernel_launcher.py:2: RuntimeWarning: overflow encountered in matmul\n",
            "  \n"
          ],
          "name": "stderr"
        },
        {
          "output_type": "stream",
          "text": [
            "| 0.4 | 2500    | nan  |\n",
            "| 0.4 | 3000    | nan  |\n",
            " -------------------------------------------\n"
          ],
          "name": "stdout"
        }
      ]
    }
  ]
}