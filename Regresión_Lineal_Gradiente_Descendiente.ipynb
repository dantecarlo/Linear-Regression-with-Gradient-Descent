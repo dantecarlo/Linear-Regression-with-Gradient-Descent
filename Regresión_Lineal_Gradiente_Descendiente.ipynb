{
  "nbformat": 4,
  "nbformat_minor": 0,
  "metadata": {
    "colab": {
      "name": "Regresión Lineal Gradiente Descendiente.ipynb",
      "provenance": [],
      "collapsed_sections": [],
      "mount_file_id": "1td656iqfqH83lyRCWROvJ9OEfLvTT9Wu",
      "authorship_tag": "ABX9TyNt+bn9vuYvJAUgRMKnwptV",
      "include_colab_link": true
    },
    "kernelspec": {
      "name": "python3",
      "display_name": "Python 3"
    }
  },
  "cells": [
    {
      "cell_type": "markdown",
      "metadata": {
        "id": "view-in-github",
        "colab_type": "text"
      },
      "source": [
        "<a href=\"https://colab.research.google.com/github/dantecarlo/Linear-Regression-with-Gradient-Descent/blob/master/Regresi%C3%B3n_Lineal_Gradiente_Descendiente.ipynb\" target=\"_parent\"><img src=\"https://colab.research.google.com/assets/colab-badge.svg\" alt=\"Open In Colab\"/></a>"
      ]
    },
    {
      "cell_type": "code",
      "metadata": {
        "id": "5yiUzJh2-C1Y",
        "colab_type": "code",
        "colab": {}
      },
      "source": [
        "#Importando librerias neceserias\n",
        "import numpy as np\n",
        "import pandas as pd\n",
        "\n",
        "import sklearn\n",
        "\n",
        "import matplotlib.pyplot as plt"
      ],
      "execution_count": 0,
      "outputs": []
    },
    {
      "cell_type": "code",
      "metadata": {
        "id": "in6fJUMyg45k",
        "colab_type": "code",
        "colab": {}
      },
      "source": [
        "#Encontrar hypothesis\n",
        "def hypothesis(X, Theta):\n",
        "  h = np.dot(Theta.T, X.T).T\n",
        "  return h "
      ],
      "execution_count": 0,
      "outputs": []
    },
    {
      "cell_type": "code",
      "metadata": {
        "id": "-Cpa1cpHg66t",
        "colab_type": "code",
        "colab": {}
      },
      "source": [
        "# Definir la funcion de Costo\n",
        "def cost_function(h, y, m):\n",
        "  J = (1 / (2 * m)) * np.sum(np.square(h-y))\n",
        "  return J"
      ],
      "execution_count": 0,
      "outputs": []
    },
    {
      "cell_type": "code",
      "metadata": {
        "id": "rCt-XzQZES5S",
        "colab_type": "code",
        "colab": {}
      },
      "source": [
        "#  Gradient Descent Univariada\n",
        "# def gradient_descent_uni(x, y, iterations = 10000, learning_rate = 0.01):\n",
        "#   grad = np.empty([1,3])\n",
        "#   m_current = b_current = 0\n",
        "#   n = len(x)\n",
        "#   plt.scatter(x, y , marker = '+', alpha = 0.8, color=\"blue\")\n",
        "#   for _ in range(iterations):\n",
        "#     y_predicted = func(x, m_current, b_current)\n",
        "    \n",
        "#     if( _ % 100 == 0 ):\n",
        "#       plt.scatter(x, y , marker = '+', alpha = 0.8, color=\"blue\")\n",
        "#       plt.plot(x, y_predicted, color = 'red')\n",
        "\n",
        "#     cost = (1/n) * sum([val**2 for val in (y - y_predicted)])\n",
        "\n",
        "#     md = -(2/n) * np.sum(x * (y - y_predicted))\n",
        "#     bd = -(2/n) * np.sum((y - y_predicted))\n",
        "\n",
        "#     m_current = m_current - learning_rate * md\n",
        "#     b_current = b_current - learning_rate * bd\n",
        "#     # print (\"m {}, b {}, cost {}\".format(m_current,b_current,cost))\n",
        "#     # plt.plot(_, cost, \".\" ,  color = 'red')\n",
        "#     grad = np.append(grad, [[m_current, b_current, cost]], axis = 0)\n",
        "#   # print(grad)\n",
        "#   return grad"
      ],
      "execution_count": 0,
      "outputs": []
    },
    {
      "cell_type": "code",
      "metadata": {
        "id": "InzuhSK7g-q6",
        "colab_type": "code",
        "colab": {}
      },
      "source": [
        "# Gradiente descendente\n",
        "def gradient_descent(X, y, Theta, m, h, learning_rate):\n",
        "  Theta = Theta - (learning_rate * (1 / m) * np.sum( np.dot(X.T,(h - y))))\n",
        "  return Theta"
      ],
      "execution_count": 0,
      "outputs": []
    },
    {
      "cell_type": "code",
      "metadata": {
        "id": "yfZcKHwDhANK",
        "colab_type": "code",
        "colab": {}
      },
      "source": [
        "# L.R.model\n",
        "def lineal_regression_model(X, y, learning_rate, iterations, draw = 0):\n",
        "  m = y.shape[0]\n",
        "  # print(\"m\", m)\n",
        "  \n",
        "  if len(X.shape) == 1:\n",
        "     X = np.array([X]).T\n",
        "  # print(np.ones((X.shape[0],1)))\n",
        "\n",
        "  # Añadir X0 = 1\n",
        "  X = np.append(np.ones((X.shape[0],1)), X, axis=1)\n",
        "\n",
        "  # print(X)\n",
        "  # inicializando Theta\n",
        "  # Theta = np.zeros((X.shape[1], 1))\n",
        "  Theta = np.random.randn(X.shape[1], 1)\n",
        "  # print(Theta)\n",
        "  \n",
        "  costs = []\n",
        "  history_values = []\n",
        "\n",
        "  # Iteraciones\n",
        "  for i in range(0, iterations):\n",
        "    # print(\"X\", np.shape(X))\n",
        "    # print(\"Theta\", np.shape(Theta))\n",
        "\n",
        "    h = hypothesis(X, Theta)\n",
        "    # print(\"h\", np.shape(h))\n",
        "    # print(h)\n",
        "    # print(\"y\", np.shape(y))\n",
        "    cost = cost_function(h, y, m)\n",
        "    # print(\"costo:\", cost)\n",
        "    Theta = gradient_descent(X, y, Theta, m, h, learning_rate)\n",
        "    # print(Theta)\n",
        "    RMSE = np.sqrt((1 / m) * np.sum(np.square(h - y)))\n",
        "    history_values.append([Theta, RMSE])\n",
        "    costs.append(cost)\n",
        "\n",
        "\n",
        "  if draw :\n",
        "    x = range(0, iterations)\n",
        "    plt.plot(x ,costs)\n",
        "    plt.xlabel(\"Iterations(per tens)\")\n",
        "    plt.ylabel(\"Training cost\")\n",
        "    plt.title(\"Learning rate\" + str(learning_rate))\n",
        "    plt.grid()\n",
        "    plt.show()\n",
        "  history_values = np.array(history_values)\n",
        "  return history_values, costs_train"
      ],
      "execution_count": 0,
      "outputs": []
    },
    {
      "cell_type": "code",
      "metadata": {
        "id": "o9dSZrhS-S7U",
        "colab_type": "code",
        "colab": {}
      },
      "source": [
        "# Importando data\n",
        "price = pd.read_csv(\"/content/drive/My Drive/Cursos/TIA/Regresion Lineal con Gradiente Descendiente/ex1data2(Home_1f).csv\", sep='\\t')\n",
        "ocean = pd.read_csv(\"/content/drive/My Drive/Cursos/TIA/Regresion Lineal con Gradiente Descendiente/oceano_simple.csv\", sep='\\t')\n",
        "petrol = pd.read_csv(\"/content/drive/My Drive/Cursos/TIA/Regresion Lineal con Gradiente Descendiente/petrol_consumption.csv\", sep='\\t')"
      ],
      "execution_count": 0,
      "outputs": []
    },
    {
      "cell_type": "code",
      "metadata": {
        "id": "vUpfmDouFydU",
        "colab_type": "code",
        "colab": {}
      },
      "source": [
        "# Transformando a np.array\n",
        "price_X = np.array(price[\"Size_(m2)\"])\n",
        "price_Y = np.array(price[\"Price\"])\n",
        "\n",
        "ocean_X = np.array(ocean[\"Sal\"])\n",
        "ocean_Y = np.array(ocean[\"Temp\"])\n",
        "\n",
        "petrol_X = np.array(petrol[[\"Petrol_tax\", \"Average_income\", \"Paved_Highways\", \"Population_Driver_licence(%)\"]])\n",
        "petrol_Y = np.array(petrol[\"Petrol_Consumption\"])"
      ],
      "execution_count": 0,
      "outputs": []
    },
    {
      "cell_type": "code",
      "metadata": {
        "id": "PMpANHTubZDl",
        "colab_type": "code",
        "colab": {}
      },
      "source": [
        "# Funcion de regularizacion\n",
        "def regularization(matrx):\n",
        "  matrx = (matrx - np.mean(matrx)) / (np.std(matrx))\n",
        "  # matrx = (matrx - np.mean(matrx)) / (np.max(matrx) - np.min(matrx))\n",
        "  return matrx"
      ],
      "execution_count": 0,
      "outputs": []
    },
    {
      "cell_type": "code",
      "metadata": {
        "id": "ZBnfUwxla28F",
        "colab_type": "code",
        "outputId": "fc005b41-025e-4101-944d-0895dfe465db",
        "colab": {
          "base_uri": "https://localhost:8080/",
          "height": 51
        }
      },
      "source": [
        "# Normalizar valores\n",
        "price_X = regularization(price_X)\n",
        "price_Y = regularization(price_Y)\n",
        "\n",
        "ocean_X = regularization(ocean_X)\n",
        "ocean_Y = regularization(ocean_Y)\n",
        "\n",
        "petrol_X = regularization(petrol_X)\n",
        "petrol_Y = regularization(petrol_Y)\n",
        "\n",
        "print(np.mean(ocean_X))\n",
        "print(np.std(ocean_X))"
      ],
      "execution_count": 0,
      "outputs": [
        {
          "output_type": "stream",
          "text": [
            "-3.89072489925318e-15\n",
            "0.9999999999999999\n"
          ],
          "name": "stdout"
        }
      ]
    },
    {
      "cell_type": "code",
      "metadata": {
        "id": "Xyc4RG3ksXmy",
        "colab_type": "code",
        "colab": {}
      },
      "source": [
        "# Dividiendo training set && validation set\n",
        "from sklearn.model_selection import train_test_split\n",
        "\n",
        "price_X_train, price_X_val, price_Y_train, price_Y_val = train_test_split(price_X, price_Y, test_size = 0.33, random_state = 5)\n",
        "ocean_X_train, ocean_X_val, ocean_Y_train, ocean_Y_val = train_test_split(ocean_X, ocean_Y, test_size = 0.33, random_state = 5)\n",
        "petrol_X_train, petrol_X_val, petrol_Y_train, petrol_Y_val = train_test_split(petrol_X, petrol_Y, test_size = 0.33, random_state = 5)"
      ],
      "execution_count": 0,
      "outputs": []
    },
    {
      "cell_type": "code",
      "metadata": {
        "id": "Bcbjvphft18a",
        "colab_type": "code",
        "colab": {}
      },
      "source": [
        "# Rectificando datos\n",
        "price_X_train = price_X_train\n",
        "price_Y_train = np.array([price_Y_train]).T\n",
        "\n",
        "price_X_val = price_X_val\n",
        "price_Y_val = np.array([price_Y_val]).T\n",
        "\n",
        "ocean_X_train = ocean_X_train\n",
        "ocean_Y_train = np.array([ocean_Y_train]).T\n",
        "\n",
        "ocean_X_val = ocean_X_val\n",
        "ocean_Y_val = np.array([ocean_Y_val]).T\n",
        "\n",
        "petrol_X_train = petrol_X_train\n",
        "petrol_Y_train = np.array([petrol_Y_train]).T\n",
        "\n",
        "petrol_X_val = petrol_X_val\n",
        "petrol_Y_val = np.array([petrol_Y_val]).T"
      ],
      "execution_count": 0,
      "outputs": []
    },
    {
      "cell_type": "code",
      "metadata": {
        "id": "WWzwEuHYLsnT",
        "colab_type": "code",
        "outputId": "0b0119e9-dcce-4fa9-f74c-c4879c5a50e7",
        "colab": {
          "base_uri": "https://localhost:8080/",
          "height": 902
        }
      },
      "source": [
        "# Llamando a la regresion lineal\n",
        "learning_rate = 0.01\n",
        "iterations = 1500\n",
        "print(\"Precio Viviendas\")\n",
        "history_price, costs_train = lineal_regression_model(price_X_train, price_Y_train, learning_rate, iterations, 1)\n",
        "print(\"Temperatura Oceánica\")\n",
        "history_ocean, costs_train = lineal_regression_model(ocean_X_train, ocean_Y_train, learning_rate, iterations, 1)\n",
        "print(\"Consumo de Petroleo\")\n",
        "history_petrol, costs_train = lineal_regression_model(petrol_X_train, petrol_Y_train, learning_rate, iterations, 1)"
      ],
      "execution_count": 589,
      "outputs": [
        {
          "output_type": "stream",
          "text": [
            "Precio Viviendas\n"
          ],
          "name": "stdout"
        },
        {
          "output_type": "display_data",
          "data": {
            "image/png": "[encoded data removed]",
            "text/plain": [
              "<Figure size 432x288 with 1 Axes>"
            ]
          },
          "metadata": {
            "tags": [],
            "needs_background": "light"
          }
        },
        {
          "output_type": "stream",
          "text": [
            "Temperatura Oceánica\n"
          ],
          "name": "stdout"
        },
        {
          "output_type": "display_data",
          "data": {
            "image/png": "[encoded data removed]",
            "text/plain": [
              "<Figure size 432x288 with 1 Axes>"
            ]
          },
          "metadata": {
            "tags": [],
            "needs_background": "light"
          }
        },
        {
          "output_type": "stream",
          "text": [
            "Consumo de Petroleo\n"
          ],
          "name": "stdout"
        },
        {
          "output_type": "display_data",
          "data": {
            "image/png": "[encoded data removed]",
            "text/plain": [
              "<Figure size 432x288 with 1 Axes>"
            ]
          },
          "metadata": {
            "tags": [],
            "needs_background": "light"
          }
        }
      ]
    },
    {
      "cell_type": "code",
      "metadata": {
        "id": "VdYrImJ28lRM",
        "colab_type": "code",
        "outputId": "c11ee8a2-f258-4879-f1f4-29ceb7c21a0c",
        "colab": {
          "base_uri": "https://localhost:8080/",
          "height": 265
        }
      },
      "source": [
        "# Grafica Datos price\n",
        "# print(history_price)\n",
        "m_price = history_price[-1][0].item(1)\n",
        "b_price = history_price[-1][0].item(0)\n",
        "\n",
        "print(\"m: \" + str(m_price) + \"| b: \" + str(b_price))\n",
        "m_history_price = history_price[:,0]\n",
        "b_history_price = history_price[:,1]\n",
        "\n",
        "fig_price = plt.figure()\n",
        "ax_price = fig_price.add_subplot(1, 1, 1)\n",
        "x_price = np.linspace(-5,5,100).T\n",
        "ax_price.spines['left'].set_position('center')\n",
        "ax_price.spines['bottom'].set_position('center')\n",
        "ax_price.spines['right'].set_color('none')\n",
        "ax_price.spines['top'].set_color('none')\n",
        "ax_price.xaxis.set_ticks_position('bottom')\n",
        "ax_price.yaxis.set_ticks_position('left')\n",
        "plt.scatter(price_X, price_Y)\n",
        "x_price = np.arange(-2, 4, 0.5)\n",
        "y_price = m_price * x_price + b_price\n",
        "plt.plot(x_price, y_price, '-r')\n",
        "plt.grid()\n",
        "plt.show()"
      ],
      "execution_count": 590,
      "outputs": [
        {
          "output_type": "stream",
          "text": [
            "m: 1.0594297595115307| b: -0.3103251372371377\n"
          ],
          "name": "stdout"
        },
        {
          "output_type": "display_data",
          "data": {
            "image/png": "[encoded data removed]",
            "text/plain": [
              "<Figure size 432x288 with 1 Axes>"
            ]
          },
          "metadata": {
            "tags": [],
            "needs_background": "light"
          }
        }
      ]
    },
    {
      "cell_type": "code",
      "metadata": {
        "id": "Ir52tfTanJEp",
        "colab_type": "code",
        "outputId": "49eef9b2-e029-47c1-d2f3-d7b66db7c642",
        "colab": {
          "base_uri": "https://localhost:8080/",
          "height": 282
        }
      },
      "source": [
        "# Ecuacion Normal price\n",
        "X_1_price = np.array([np.ones(np.shape(price_X_train)[0]), price_X_train]).T\n",
        "B_price = np.linalg.inv(X_1_price.T @ X_1_price) @ X_1_price.T @ price_Y_train\n",
        "m_price = B[1]\n",
        "b_price = B[0]\n",
        "print(\"m:\" +  str(B_price[1]))\n",
        "print(\"b:\" +  str(B_price[0]))\n",
        "\n",
        "fig = plt.figure()\n",
        "ax_price = fig.add_subplot(1, 1, 1)\n",
        "x_price = np.linspace(-5,5,100)\n",
        "ax_price.spines['left'].set_position('center')\n",
        "ax_price.spines['bottom'].set_position('center')\n",
        "ax_price.spines['right'].set_color('none')\n",
        "ax_price.spines['top'].set_color('none')\n",
        "ax_price.xaxis.set_ticks_position('bottom')\n",
        "ax_price.yaxis.set_ticks_position('left')\n",
        "plt.scatter(price_X, price_Y)\n",
        "x_price = np.arange(-2, 4, 0.5)\n",
        "y_price = m * x + b\n",
        "plt.plot(x_price, y_price, '-r')\n",
        "plt.grid()\n",
        "plt.show()"
      ],
      "execution_count": 591,
      "outputs": [
        {
          "output_type": "stream",
          "text": [
            "m:[0.84158228]\n",
            "b:[-0.02512726]\n"
          ],
          "name": "stdout"
        },
        {
          "output_type": "display_data",
          "data": {
            "image/png": "[encoded data removed]",
            "text/plain": [
              "<Figure size 432x288 with 1 Axes>"
            ]
          },
          "metadata": {
            "tags": [],
            "needs_background": "light"
          }
        }
      ]
    },
    {
      "cell_type": "code",
      "metadata": {
        "id": "Vd0Dfrg_CdH6",
        "colab_type": "code",
        "outputId": "07d21278-7f33-4a8a-b828-a27fdbb1b0b6",
        "colab": {
          "base_uri": "https://localhost:8080/",
          "height": 265
        }
      },
      "source": [
        "# Grafica Datos ocean\n",
        "m_ocean = history_ocean[-1][0].item(1)\n",
        "b_ocean = history_ocean[-1][0].item(0)\n",
        "\n",
        "print(\"m: \" + str(m) + \"| b: \" + str(b))\n",
        "m_history_ocean = history_ocean[:,0]\n",
        "b_history_ocean = history_ocean[:,1]\n",
        "\n",
        "fig = plt.figure()\n",
        "ax = fig.add_subplot(1, 1, 1)\n",
        "x = np.linspace(-5,5,100).T\n",
        "ax.spines['left'].set_position('center')\n",
        "ax.spines['bottom'].set_position('center')\n",
        "ax.spines['right'].set_color('none')\n",
        "ax.spines['top'].set_color('none')\n",
        "ax.xaxis.set_ticks_position('bottom')\n",
        "ax.yaxis.set_ticks_position('left')\n",
        "plt.scatter(ocean_X_train, ocean_Y_train)\n",
        "x_ocean = np.arange(-2, 4, 0.5)\n",
        "y_ocean = m_ocean * x_ocean + b_ocean\n",
        "plt.plot(x_ocean, y_ocean, '-r')\n",
        "plt.grid()\n",
        "plt.show()"
      ],
      "execution_count": 592,
      "outputs": [
        {
          "output_type": "stream",
          "text": [
            "m: 0.6326911373966844| b: 0.24834531394827475\n"
          ],
          "name": "stdout"
        },
        {
          "output_type": "display_data",
          "data": {
            "image/png": "[encoded data removed]",
            "text/plain": [
              "<Figure size 432x288 with 1 Axes>"
            ]
          },
          "metadata": {
            "tags": [],
            "needs_background": "light"
          }
        }
      ]
    },
    {
      "cell_type": "code",
      "metadata": {
        "id": "njDvqK-pCigy",
        "colab_type": "code",
        "outputId": "c4b51572-cafd-4cab-f47c-9224531c3a7a",
        "colab": {
          "base_uri": "https://localhost:8080/",
          "height": 284
        }
      },
      "source": [
        "# Ecuacion Normal ocean\n",
        "X_1_ocean = np.array([np.ones(np.shape(ocean_X_train)[0]), ocean_X_train]).T\n",
        "B_ocean = np.linalg.inv(X_1_ocean.T @ X_1_ocean) @ X_1_ocean.T @ ocean_Y_train\n",
        "m_ocean = B_ocean[1]\n",
        "b_ocean = B_ocean[0]\n",
        "print(\"m:\" +  str(m_ocean))\n",
        "print(\"b:\" +  str(b_ocean))\n",
        "\n",
        "fig_ocean = plt.figure()\n",
        "ax_ocean = fig_ocean.add_subplot(1, 1, 1)\n",
        "x_ocean = np.linspace(-5,5,100)\n",
        "ax_ocean.spines['left'].set_position('center')\n",
        "ax_ocean.spines['bottom'].set_position('center')\n",
        "ax_ocean.spines['right'].set_color('none')\n",
        "ax_ocean.spines['top'].set_color('none')\n",
        "ax_ocean.xaxis.set_ticks_position('bottom')\n",
        "ax_ocean.yaxis.set_ticks_position('left')\n",
        "plt.scatter(ocean_X_train, ocean_Y_train)\n",
        "x_ocean = np.arange(-2, 4, 0.5)\n",
        "y_ocean = m_ocean * x_ocean + b_ocean\n",
        "plt.plot(x_ocean, y_ocean, '-r')\n",
        "plt.grid()\n",
        "plt.show()"
      ],
      "execution_count": 593,
      "outputs": [
        {
          "output_type": "stream",
          "text": [
            "m:[-0.91312856]\n",
            "b:[-0.00860397]\n"
          ],
          "name": "stdout"
        },
        {
          "output_type": "display_data",
          "data": {
            "image/png": "[encoded data removed]",
            "text/plain": [
              "<Figure size 432x288 with 1 Axes>"
            ]
          },
          "metadata": {
            "tags": [],
            "needs_background": "light"
          }
        }
      ]
    },
    {
      "cell_type": "code",
      "metadata": {
        "id": "juen9b34s_Oi",
        "colab_type": "code",
        "outputId": "e44dd29d-0c62-4fa2-ff8f-7ed075e5746c",
        "colab": {
          "base_uri": "https://localhost:8080/",
          "height": 102
        }
      },
      "source": [
        "# Ecuacion Normal petrol\n",
        "# X_1_petrol = np.array([np.ones(np.shape(petrol_X_train)[0]), petrol_X_train]).T\n",
        "X_1_petrol = np.append(np.ones((petrol_X_train.shape[0],1)), petrol_X_train, axis=1)\n",
        "B_petrol = np.linalg.inv(X_1_petrol.T @ X_1_petrol) @ X_1_petrol.T @ petrol_Y_train\n",
        "print(B_petrol)"
      ],
      "execution_count": 584,
      "outputs": [
        {
          "output_type": "stream",
          "text": [
            "[[ 3.05075672e+04]\n",
            " [-1.13338355e+03]\n",
            " [-1.81049051e+00]\n",
            " [-1.45128728e-01]\n",
            " [ 3.90205259e+04]]\n"
          ],
          "name": "stdout"
        }
      ]
    },
    {
      "cell_type": "code",
      "metadata": {
        "id": "qsz0VjOJan1u",
        "colab_type": "code",
        "outputId": "778dbce6-4bbe-443e-a305-1006e8f68a93",
        "colab": {
          "base_uri": "https://localhost:8080/",
          "height": 102
        }
      },
      "source": [
        "# Tabla RMSE\n",
        "print(\" ----------------------------------------------------------------------------\")\n",
        "print(\"|          | Precio Viviendas   | Temperatura Oceanica | Consumo de Petróleo |\")\n",
        "print(\" ----------------------------------------------------------------------------\")\n",
        "print(\"|   RMSE   | \" + str(history_price[-1][1]) + \" | \" + str(history_ocean[-1][1]) + \"   | \" + str(history_petrol[-1][1]) + \"  |\")\n",
        "print(\" ----------------------------------------------------------------------------\")\n"
      ],
      "execution_count": 594,
      "outputs": [
        {
          "output_type": "stream",
          "text": [
            " ----------------------------------------------------------------------------\n",
            "|          | Precio Viviendas   | Temperatura Oceanica | Consumo de Petróleo |\n",
            " ----------------------------------------------------------------------------\n",
            "|   RMSE   | 0.5762499223164163 | 0.3981815768591733   | 2.276361832912489  |\n",
            " ----------------------------------------------------------------------------\n"
          ],
          "name": "stdout"
        }
      ]
    },
    {
      "cell_type": "code",
      "metadata": {
        "id": "YzCROu3dee5S",
        "colab_type": "code",
        "outputId": "9d687f00-d505-43aa-8346-da33e719fc63",
        "colab": {
          "base_uri": "https://localhost:8080/",
          "height": 88
        }
      },
      "source": [
        "# Hiperparametros Optimos\n",
        "learning_rate_v = [0.01, 0.05, 0.1, 0.2, 0.3, 0.4]\n",
        "iterations_v = [*range(500, 3500, 500)]\n",
        "history_price = []\n",
        "\n",
        "for learning_rate in learning_rate_v:\n",
        "  for iterations in iterations_v:\n",
        "    history, cost = lineal_regression_model(price_X_train, price_Y_train, learning_rate, iterations)\n",
        "    history_price.append([learning_rate, iterations, history[-1][1]])\n",
        "\n",
        "print(history_price)\n",
        "\n",
        "history_ocean = []\n",
        "\n",
        "for learning_rate in learning_rate_v:\n",
        "  for iterations in iterations_v:\n",
        "    history, cost = lineal_regression_model(ocean_X_train, ocean_Y_train, learning_rate, iterations)\n",
        "    history_ocean.append([learning_rate, iterations, history[-1][1]])\n",
        "\n",
        "print(history_ocean)\n",
        "\n",
        "history_petrol = []\n",
        "\n",
        "for learning_rate in learning_rate_v:\n",
        "  for iterations in iterations_v:\n",
        "    history, cost = lineal_regression_model(petrol_X_train, petrol_Y_train, learning_rate, iterations)\n",
        "    history_petrol.append([learning_rate, iterations, history[-1][1]])\n",
        "\n",
        "print(history_petrol)\n"
      ],
      "execution_count": 603,
      "outputs": [
        {
          "output_type": "stream",
          "text": [
            "[[0.01, 500, 1.3390224341885457], [0.01, 1000, 0.4932639118319459], [0.01, 1500, 1.4652951215491332], [0.01, 2000, 0.7680107752172385], [0.01, 2500, 1.1314932541024616], [0.01, 3000, 1.1754742972554582], [0.05, 500, 0.8759091676159267], [0.05, 1000, 3.6881309003414557], [0.05, 1500, 0.46294457022570934], [0.05, 2000, 0.8778417698973535], [0.05, 2500, 1.5112190461262636], [0.05, 3000, 2.1013569972625294], [0.1, 500, 0.799868551082764], [0.1, 1000, 1.0039197461834402], [0.1, 1500, 0.9791475715250998], [0.1, 2000, 0.7564021711798605], [0.1, 2500, 0.6614091683293721], [0.1, 3000, 0.44252227623297885], [0.2, 500, 0.5061006617089138], [0.2, 1000, 1.3093110433105852], [0.2, 1500, 0.5038838523598467], [0.2, 2000, 0.907239971734338], [0.2, 2500, 0.4531513920311717], [0.2, 3000, 2.1432713732308084], [0.3, 500, 0.7934884185364467], [0.3, 1000, 1.9353830322510106], [0.3, 1500, 0.5927899049157763], [0.3, 2000, 1.0250317147578085], [0.3, 2500, 1.9017155130523444], [0.3, 3000, 1.5718908484937408], [0.4, 500, 1.8405159983840174], [0.4, 1000, 0.9185170863300346], [0.4, 1500, 0.4494718368786207], [0.4, 2000, 1.410241367369602], [0.4, 2500, 0.8615568666584944], [0.4, 3000, 1.158275476077067]]\n",
            "[[0.01, 500, 2.340202127041717], [0.01, 1000, 1.3173789089417864], [0.01, 1500, 0.4925891131619732], [0.01, 2000, 1.7971498719086705], [0.01, 2500, 1.7141266258110912], [0.01, 3000, 1.0994842854048401], [0.05, 500, 0.7946293472040434], [0.05, 1000, 1.1506029312619448], [0.05, 1500, 1.1288332108241645], [0.05, 2000, 0.8290303186040467], [0.05, 2500, 0.9490086118201304], [0.05, 3000, 1.0780827078797732], [0.1, 500, 0.4217024017075834], [0.1, 1000, 1.6258688815742646], [0.1, 1500, 1.2462342099014014], [0.1, 2000, 0.4279802545093442], [0.1, 2500, 1.104643574474104], [0.1, 3000, 0.5706072325765552], [0.2, 500, 0.8762970063740246], [0.2, 1000, 1.6960205586904245], [0.2, 1500, 1.3765662725157695], [0.2, 2000, 1.0308293581621173], [0.2, 2500, 0.46020414041936303], [0.2, 3000, 0.40027004141286215], [0.3, 500, 0.8690079840451145], [0.3, 1000, 0.3991200229252099], [0.3, 1500, 0.8385890941392471], [0.3, 2000, 2.0247430001978652], [0.3, 2500, 0.44364128770644995], [0.3, 3000, 1.1340119902481829], [0.4, 500, 0.7617807880150276], [0.4, 1000, 2.1447061178218907], [0.4, 1500, 0.8794806259733535], [0.4, 2000, 0.5188091797549164], [0.4, 2500, 1.3886096487344142], [0.4, 3000, 0.6296867557329108]]\n",
            "[[0.01, 500, 2.882303913655443], [0.01, 1000, 1.754656733735146], [0.01, 1500, 1.2001273663659118], [0.01, 2000, 1.204448212160398], [0.01, 2500, 1.1150559221637462], [0.01, 3000, 1.4594307587951834], [0.05, 500, 1.4680549275462458], [0.05, 1000, 1.8344105417930385], [0.05, 1500, 1.3561245404336486], [0.05, 2000, 1.1177357173375937], [0.05, 2500, 1.9485456461106259], [0.05, 3000, 2.052304199312018], [0.1, 500, 2.3021713798776293], [0.1, 1000, 1.582395918854848], [0.1, 1500, 1.0331705502788264], [0.1, 2000, 1.3052997635223826], [0.1, 2500, 1.7389200989367521], [0.1, 3000, 1.112185048974546], [0.2, 500, 1.991993467447712], [0.2, 1000, 1.2370064114589248], [0.2, 1500, 1.0699195997726887], [0.2, 2000, 2.730968750919737], [0.2, 2500, 1.1570969215255285], [0.2, 3000, 1.0577976750058873], [0.3, 500, 2.406428444412], [0.3, 1000, 2.4252098789125833], [0.3, 1500, 1.2321877724248242], [0.3, 2000, 1.266103639294508], [0.3, 2500, 1.122612804263688], [0.3, 3000, 1.2248678107726894], [0.4, 500, 2.0023177979832862], [0.4, 1000, 1.3841918296754436], [0.4, 1500, 2.1114868804382203], [0.4, 2000, 1.6476353962748524], [0.4, 2500, 1.0530591690582276], [0.4, 3000, 1.2335229257457203]]\n"
          ],
          "name": "stdout"
        }
      ]
    },
    {
      "cell_type": "code",
      "metadata": {
        "id": "jMsgT-zXmGM7",
        "colab_type": "code",
        "outputId": "a1a27e7a-2dc7-4763-f956-3d985c1bf100",
        "colab": {
          "base_uri": "https://localhost:8080/",
          "height": 1000
        }
      },
      "source": [
        "print(\"Precio Viviendas\")\n",
        "print(\" ---------------------------------------------------------\")\n",
        "print(\"| Tasa de Aprendizaje | Iteraciones | RMSE                |\")\n",
        "print(\" ---------------------------------------------------------\")\n",
        "for his in history_price:  \n",
        "  print(\"|        \" + str(his[0]) +                \"         |     \" + str(his[1]) + \"     | \" + str(his[2]) + \"  |\")\n",
        "print(\" ---------------------------------------------------------\")\n",
        "\n",
        "print(\"Temperatura Oceanica\")\n",
        "print(\" ---------------------------------------------------------\")\n",
        "print(\"| Tasa de Aprendizaje | Iteraciones | RMSE                |\")\n",
        "print(\" ---------------------------------------------------------\")\n",
        "for his in history_ocean:  \n",
        "  print(\"|        \" + str(his[0]) +                \"         |     \" + str(his[1]) + \"     | \" + str(his[2]) + \"  |\")\n",
        "print(\" ---------------------------------------------------------\")\n",
        "\n",
        "print(\"Consumo de Petróleo\")\n",
        "print(\" ---------------------------------------------------------\")\n",
        "print(\"| Tasa de Aprendizaje | Iteraciones | RMSE                |\")\n",
        "print(\" ---------------------------------------------------------\")\n",
        "for his in history_petrol:  \n",
        "  print(\"|        \" + str(his[0]) +                \"         |     \" + str(his[1]) + \"     | \" + str(his[2]) + \"  |\")\n",
        "print(\" ---------------------------------------------------------\")"
      ],
      "execution_count": 615,
      "outputs": [
        {
          "output_type": "stream",
          "text": [
            "Precio Viviendas\n",
            " ---------------------------------------------------------\n",
            "| Tasa de Aprendizaje | Iteraciones | RMSE                |\n",
            " ---------------------------------------------------------\n",
            "|        0.01         |     500     | 1.3390224341885457  |\n",
            "|        0.01         |     1000     | 0.4932639118319459  |\n",
            "|        0.01         |     1500     | 1.4652951215491332  |\n",
            "|        0.01         |     2000     | 0.7680107752172385  |\n",
            "|        0.01         |     2500     | 1.1314932541024616  |\n",
            "|        0.01         |     3000     | 1.1754742972554582  |\n",
            "|        0.05         |     500     | 0.8759091676159267  |\n",
            "|        0.05         |     1000     | 3.6881309003414557  |\n",
            "|        0.05         |     1500     | 0.46294457022570934  |\n",
            "|        0.05         |     2000     | 0.8778417698973535  |\n",
            "|        0.05         |     2500     | 1.5112190461262636  |\n",
            "|        0.05         |     3000     | 2.1013569972625294  |\n",
            "|        0.1         |     500     | 0.799868551082764  |\n",
            "|        0.1         |     1000     | 1.0039197461834402  |\n",
            "|        0.1         |     1500     | 0.9791475715250998  |\n",
            "|        0.1         |     2000     | 0.7564021711798605  |\n",
            "|        0.1         |     2500     | 0.6614091683293721  |\n",
            "|        0.1         |     3000     | 0.44252227623297885  |\n",
            "|        0.2         |     500     | 0.5061006617089138  |\n",
            "|        0.2         |     1000     | 1.3093110433105852  |\n",
            "|        0.2         |     1500     | 0.5038838523598467  |\n",
            "|        0.2         |     2000     | 0.907239971734338  |\n",
            "|        0.2         |     2500     | 0.4531513920311717  |\n",
            "|        0.2         |     3000     | 2.1432713732308084  |\n",
            "|        0.3         |     500     | 0.7934884185364467  |\n",
            "|        0.3         |     1000     | 1.9353830322510106  |\n",
            "|        0.3         |     1500     | 0.5927899049157763  |\n",
            "|        0.3         |     2000     | 1.0250317147578085  |\n",
            "|        0.3         |     2500     | 1.9017155130523444  |\n",
            "|        0.3         |     3000     | 1.5718908484937408  |\n",
            "|        0.4         |     500     | 1.8405159983840174  |\n",
            "|        0.4         |     1000     | 0.9185170863300346  |\n",
            "|        0.4         |     1500     | 0.4494718368786207  |\n",
            "|        0.4         |     2000     | 1.410241367369602  |\n",
            "|        0.4         |     2500     | 0.8615568666584944  |\n",
            "|        0.4         |     3000     | 1.158275476077067  |\n",
            " ---------------------------------------------------------\n",
            "Temperatura Oceanica\n",
            " ---------------------------------------------------------\n",
            "| Tasa de Aprendizaje | Iteraciones | RMSE                |\n",
            " ---------------------------------------------------------\n",
            "|        0.01         |     500     | 2.340202127041717  |\n",
            "|        0.01         |     1000     | 1.3173789089417864  |\n",
            "|        0.01         |     1500     | 0.4925891131619732  |\n",
            "|        0.01         |     2000     | 1.7971498719086705  |\n",
            "|        0.01         |     2500     | 1.7141266258110912  |\n",
            "|        0.01         |     3000     | 1.0994842854048401  |\n",
            "|        0.05         |     500     | 0.7946293472040434  |\n",
            "|        0.05         |     1000     | 1.1506029312619448  |\n",
            "|        0.05         |     1500     | 1.1288332108241645  |\n",
            "|        0.05         |     2000     | 0.8290303186040467  |\n",
            "|        0.05         |     2500     | 0.9490086118201304  |\n",
            "|        0.05         |     3000     | 1.0780827078797732  |\n",
            "|        0.1         |     500     | 0.4217024017075834  |\n",
            "|        0.1         |     1000     | 1.6258688815742646  |\n",
            "|        0.1         |     1500     | 1.2462342099014014  |\n",
            "|        0.1         |     2000     | 0.4279802545093442  |\n",
            "|        0.1         |     2500     | 1.104643574474104  |\n",
            "|        0.1         |     3000     | 0.5706072325765552  |\n",
            "|        0.2         |     500     | 0.8762970063740246  |\n",
            "|        0.2         |     1000     | 1.6960205586904245  |\n",
            "|        0.2         |     1500     | 1.3765662725157695  |\n",
            "|        0.2         |     2000     | 1.0308293581621173  |\n",
            "|        0.2         |     2500     | 0.46020414041936303  |\n",
            "|        0.2         |     3000     | 0.40027004141286215  |\n",
            "|        0.3         |     500     | 0.8690079840451145  |\n",
            "|        0.3         |     1000     | 0.3991200229252099  |\n",
            "|        0.3         |     1500     | 0.8385890941392471  |\n",
            "|        0.3         |     2000     | 2.0247430001978652  |\n",
            "|        0.3         |     2500     | 0.44364128770644995  |\n",
            "|        0.3         |     3000     | 1.1340119902481829  |\n",
            "|        0.4         |     500     | 0.7617807880150276  |\n",
            "|        0.4         |     1000     | 2.1447061178218907  |\n",
            "|        0.4         |     1500     | 0.8794806259733535  |\n",
            "|        0.4         |     2000     | 0.5188091797549164  |\n",
            "|        0.4         |     2500     | 1.3886096487344142  |\n",
            "|        0.4         |     3000     | 0.6296867557329108  |\n",
            " ---------------------------------------------------------\n",
            "Consumo de Petróleo\n",
            " ---------------------------------------------------------\n",
            "| Tasa de Aprendizaje | Iteraciones | RMSE                |\n",
            " ---------------------------------------------------------\n",
            "|        0.01         |     500     | 2.882303913655443  |\n",
            "|        0.01         |     1000     | 1.754656733735146  |\n",
            "|        0.01         |     1500     | 1.2001273663659118  |\n",
            "|        0.01         |     2000     | 1.204448212160398  |\n",
            "|        0.01         |     2500     | 1.1150559221637462  |\n",
            "|        0.01         |     3000     | 1.4594307587951834  |\n",
            "|        0.05         |     500     | 1.4680549275462458  |\n",
            "|        0.05         |     1000     | 1.8344105417930385  |\n",
            "|        0.05         |     1500     | 1.3561245404336486  |\n",
            "|        0.05         |     2000     | 1.1177357173375937  |\n",
            "|        0.05         |     2500     | 1.9485456461106259  |\n",
            "|        0.05         |     3000     | 2.052304199312018  |\n",
            "|        0.1         |     500     | 2.3021713798776293  |\n",
            "|        0.1         |     1000     | 1.582395918854848  |\n",
            "|        0.1         |     1500     | 1.0331705502788264  |\n",
            "|        0.1         |     2000     | 1.3052997635223826  |\n",
            "|        0.1         |     2500     | 1.7389200989367521  |\n",
            "|        0.1         |     3000     | 1.112185048974546  |\n",
            "|        0.2         |     500     | 1.991993467447712  |\n",
            "|        0.2         |     1000     | 1.2370064114589248  |\n",
            "|        0.2         |     1500     | 1.0699195997726887  |\n",
            "|        0.2         |     2000     | 2.730968750919737  |\n",
            "|        0.2         |     2500     | 1.1570969215255285  |\n",
            "|        0.2         |     3000     | 1.0577976750058873  |\n",
            "|        0.3         |     500     | 2.406428444412  |\n",
            "|        0.3         |     1000     | 2.4252098789125833  |\n",
            "|        0.3         |     1500     | 1.2321877724248242  |\n",
            "|        0.3         |     2000     | 1.266103639294508  |\n",
            "|        0.3         |     2500     | 1.122612804263688  |\n",
            "|        0.3         |     3000     | 1.2248678107726894  |\n",
            "|        0.4         |     500     | 2.0023177979832862  |\n",
            "|        0.4         |     1000     | 1.3841918296754436  |\n",
            "|        0.4         |     1500     | 2.1114868804382203  |\n",
            "|        0.4         |     2000     | 1.6476353962748524  |\n",
            "|        0.4         |     2500     | 1.0530591690582276  |\n",
            "|        0.4         |     3000     | 1.2335229257457203  |\n",
            " ---------------------------------------------------------\n"
          ],
          "name": "stdout"
        }
      ]
    }
  ]
}