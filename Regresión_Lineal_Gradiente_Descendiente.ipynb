{
  "nbformat": 4,
  "nbformat_minor": 0,
  "metadata": {
    "colab": {
      "name": "Regresión Lineal Gradiente Descendiente.ipynb",
      "provenance": [],
      "collapsed_sections": [],
      "authorship_tag": "ABX9TyOAcz5gufxDE2ywkcsgjV82",
      "include_colab_link": true
    },
    "kernelspec": {
      "name": "python3",
      "display_name": "Python 3"
    }
  },
  "cells": [
    {
      "cell_type": "markdown",
      "metadata": {
        "id": "view-in-github",
        "colab_type": "text"
      },
      "source": [
        "<a href=\"https://colab.research.google.com/github/dantecarlo/Linear-Regression-with-Gradient-Descent/blob/master/Regresi%C3%B3n_Lineal_Gradiente_Descendiente.ipynb\" target=\"_parent\"><img src=\"https://colab.research.google.com/assets/colab-badge.svg\" alt=\"Open In Colab\"/></a>"
      ]
    },
    {
      "cell_type": "code",
      "metadata": {
        "id": "5yiUzJh2-C1Y",
        "colab_type": "code",
        "colab": {}
      },
      "source": [
        "#Importando librerias neceserias\n",
        "import numpy as np\n",
        "import pandas as pd\n",
        "\n",
        "import sklearn\n",
        "\n",
        "import matplotlib.pyplot as plt"
      ],
      "execution_count": 0,
      "outputs": []
    },
    {
      "cell_type": "code",
      "metadata": {
        "id": "NPV0AEwSgk3p",
        "colab_type": "code",
        "colab": {}
      },
      "source": [
        "# Paso 1 - Inicializar Vector w y b\n",
        "def initialize_parameters(lenw):\n",
        "  # w = np.random.randn(1, lenw)\n",
        "  w = np.zeros((1,lenw))\n",
        "  b = 0\n",
        "  return w, b"
      ],
      "execution_count": 0,
      "outputs": []
    },
    {
      "cell_type": "code",
      "metadata": {
        "id": "in6fJUMyg45k",
        "colab_type": "code",
        "colab": {}
      },
      "source": [
        "# Paso 2 - Encontrar Vector: z = w X + b (Forward propagation) -> z = hypothesis\n",
        "def forward_prop(X, w, b): # w --> 1xn, X --> nxm\n",
        "  z = np.dot(w, X) + b # z --> 1xm b_vector = [b, b, b, ...]\n",
        "  return z\n",
        "\n",
        "def hypothesis(X, Theta, b_value):\n",
        "  if(len(X.shape) == 1):\n",
        "    X = np.array([X])\n",
        "  h = np.dot(Theta.T, X) + b_value\n",
        "  return h "
      ],
      "execution_count": 0,
      "outputs": []
    },
    {
      "cell_type": "code",
      "metadata": {
        "id": "-Cpa1cpHg66t",
        "colab_type": "code",
        "colab": {}
      },
      "source": [
        "# Paso 3 - Definir la funcion de Costo J = 1/2m * sum((z - y)^2)\n",
        "def cost_function(z, y):\n",
        "  m = y.shape[1]\n",
        "  J = (1 / (2 * m)) * np.sum(np.square(z-y))\n",
        "  return J"
      ],
      "execution_count": 0,
      "outputs": []
    },
    {
      "cell_type": "code",
      "metadata": {
        "id": "wZg7LwzIg94i",
        "colab_type": "code",
        "colab": {}
      },
      "source": [
        "# Paso 4 - Back propagation: dz = 1/m * (z - y) && dw = dz * X.T && db = sum(dz)\n",
        "def back_prop(X, y, z):\n",
        "  m = y.shape[1]\n",
        "  dz = (1 / m) * (z - y)\n",
        "  dw = np.dot(dz, X.T) # dw --> 1xn\n",
        "  db = np.sum(dz)\n",
        "  \n",
        "  return dw, db"
      ],
      "execution_count": 0,
      "outputs": []
    },
    {
      "cell_type": "code",
      "metadata": {
        "id": "rCt-XzQZES5S",
        "colab_type": "code",
        "colab": {}
      },
      "source": [
        "#  Gradient Descent Univariada\n",
        "# def gradient_descent_uni(x, y, iterations = 10000, learning_rate = 0.01):\n",
        "#   grad = np.empty([1,3])\n",
        "#   m_current = b_current = 0\n",
        "#   n = len(x)\n",
        "#   plt.scatter(x, y , marker = '+', alpha = 0.8, color=\"blue\")\n",
        "#   for _ in range(iterations):\n",
        "#     y_predicted = func(x, m_current, b_current)\n",
        "    \n",
        "#     if( _ % 100 == 0 ):\n",
        "#       plt.scatter(x, y , marker = '+', alpha = 0.8, color=\"blue\")\n",
        "#       plt.plot(x, y_predicted, color = 'red')\n",
        "\n",
        "#     cost = (1/n) * sum([val**2 for val in (y - y_predicted)])\n",
        "\n",
        "#     md = -(2/n) * np.sum(x * (y - y_predicted))\n",
        "#     bd = -(2/n) * np.sum((y - y_predicted))\n",
        "\n",
        "#     m_current = m_current - learning_rate * md\n",
        "#     b_current = b_current - learning_rate * bd\n",
        "#     # print (\"m {}, b {}, cost {}\".format(m_current,b_current,cost))\n",
        "#     # plt.plot(_, cost, \".\" ,  color = 'red')\n",
        "#     grad = np.append(grad, [[m_current, b_current, cost]], axis = 0)\n",
        "#   # print(grad)\n",
        "#   return grad"
      ],
      "execution_count": 0,
      "outputs": []
    },
    {
      "cell_type": "code",
      "metadata": {
        "id": "InzuhSK7g-q6",
        "colab_type": "code",
        "colab": {}
      },
      "source": [
        "# Paso 5 - Gradiente descendente: error del back propagation\n",
        "def gradient_descent_error(w, b ,dw, db, learning_rate):\n",
        "  w = w - learning_rate * dw\n",
        "  b = b - learning_rate * db\n",
        "  \n",
        "  return w, b\n",
        "\n",
        "# Gradiente descendente: Obtener los valores\n",
        "def gradient_descent(X, y, Theta, b_value, m, h, learning_rate):\n",
        "  Theta = Theta - learning_rate * (1 / m) * np.sum((h - y) @ X.T) \n",
        "  b_value = b_value - learning_rate * (1 / m) * np.sum(h - y) \n",
        "\n",
        "  return Theta, b_value"
      ],
      "execution_count": 0,
      "outputs": []
    },
    {
      "cell_type": "code",
      "metadata": {
        "id": "yfZcKHwDhANK",
        "colab_type": "code",
        "colab": {}
      },
      "source": [
        "# Paso 6 - L.R.model\n",
        "def lineal_regression_model(X_train, y_train, X_val, y_val, learning_rate, iterations):\n",
        "  lenw = X_train.shape[0]\n",
        "  w, b = initialize_parameters(lenw) # Paso 1\n",
        "  if len(X_train.shape) == 1:\n",
        "    Theta = np.zeros((1, 1))\n",
        "  else:\n",
        "    Theta = np.zeros((X_train.shape[0], 1))\n",
        "\n",
        "  b_value = 0\n",
        "  \n",
        "  costs_train = []\n",
        "  m_train = y_train.shape[1]\n",
        "  m_val = y_val.shape[1]\n",
        "\n",
        "  history_values = []\n",
        "\n",
        "  for i in range(1, iterations + 1):\n",
        "    z_train = forward_prop(X_train, w, b) # Paso 2\n",
        "    cost_train = cost_function(z_train, y_train) # Paso 3\n",
        "    dw, db = back_prop(X_train, y_train, z_train) # Paso 4\n",
        "\n",
        "    h = hypothesis(X_train, Theta, b_value)\n",
        "    Theta, b_value = gradient_descent(X_train, y_train, Theta, b_value, lenw, h, learning_rate)\n",
        "    history_values.append([Theta[:][0], b_value])\n",
        "    w, b = gradient_descent_error(w, b, dw, db, learning_rate) # Paso 5\n",
        "\n",
        "    if i % 10 == 0:\n",
        "      costs_train.append(cost_train)\n",
        "\n",
        "    # MAE_train\n",
        "    MAE_train = (1 / m_train) * np.sum(np.abs(z_train - y_train))\n",
        "\n",
        "    # cost_val, MAE_val\n",
        "    lenw_val = X_val.shape[0]\n",
        "    w_val, b_val = initialize_parameters(lenw_val) # Paso 1\n",
        "    z_val = forward_prop(X_val, w_val, b_val)\n",
        "    cost_val = cost_function(z_val, y_val)\n",
        "    MAE_val = (1 / m_val) * np.sum(np.abs(z_val - y_val))\n",
        "\n",
        "    # Imprimir cost_train, cost_ val, MAE_train, MAE_val\n",
        "    # print(\"Iteracion \" + str(i) + \"/\" + str(iterations) + \": \")\n",
        "    # print(\"Training cost \" + str(cost_train) + \"|\" + \"Validation cost \" + str(cost_val))\n",
        "    # print(\"Training MAE \" + str(MAE_train) + \"|\" + \"Validation MAE \" + str(MAE_val))\n",
        "    # print(\"Training b \" + str(b) + \"|\" + \"Validation b \" + str(b_val))\n",
        "    # print(\"Training z_train \" + str(z_train) + \"|\" + \"Validation z_val \" + str(z_val))\n",
        "\n",
        "\n",
        "  # plt.plot(costs_train)\n",
        "  # plt.xlabel(\"Iterations(per tens)\")\n",
        "  # plt.ylabel(\"Training cost\")\n",
        "  # plt.title(\"Learning rate\" + str(learning_rate))\n",
        "  # plt.grid()\n",
        "  # plt.show()\n",
        "  history_values = np.array(history_values)\n",
        "  return history_values"
      ],
      "execution_count": 0,
      "outputs": []
    },
    {
      "cell_type": "code",
      "metadata": {
        "id": "o9dSZrhS-S7U",
        "colab_type": "code",
        "colab": {}
      },
      "source": [
        "# Importando data\n",
        "price = pd.read_csv(\"/content/drive/My Drive/Cursos/TIA/Regresion Lineal con Gradiente Descendiente/ex1data2(Home_1f).csv\", sep='\\t')\n",
        "ocean = pd.read_csv(\"/content/drive/My Drive/Cursos/TIA/Regresion Lineal con Gradiente Descendiente/oceano_simple.csv\", sep='\\t')\n",
        "petrol = pd.read_csv(\"/content/drive/My Drive/Cursos/TIA/Regresion Lineal con Gradiente Descendiente/petrol_consumption.csv\", sep='\\t')"
      ],
      "execution_count": 0,
      "outputs": []
    },
    {
      "cell_type": "code",
      "metadata": {
        "id": "vUpfmDouFydU",
        "colab_type": "code",
        "colab": {}
      },
      "source": [
        "# Transformando a np.array\n",
        "price_X = np.array(price[\"Size_(m2)\"])\n",
        "price_Y = np.array(price[\"Price\"])\n",
        "\n",
        "ocean_X = np.array(ocean[\"Sal\"])\n",
        "ocean_Y = np.array(ocean[\"Temp\"])\n",
        "\n",
        "petrol_X = np.array(petrol[[\"Petrol_tax\", \"Average_income\", \"Paved_Highways\", \"Population_Driver_licence(%)\"]])\n",
        "petrol_Y = np.array(petrol[\"Petrol_Consumption\"])"
      ],
      "execution_count": 0,
      "outputs": []
    },
    {
      "cell_type": "code",
      "metadata": {
        "id": "PMpANHTubZDl",
        "colab_type": "code",
        "colab": {}
      },
      "source": [
        "# Funcion de regularizacion\n",
        "def regularization(matrx):\n",
        "  matrx = (matrx - np.mean(matrx)) / (2 * np.std(matrx))\n",
        "  # matrx = (matrx - np.mean(matrx)) / (np.max(matrx) - np.min(matrx))\n",
        "  return matrx"
      ],
      "execution_count": 0,
      "outputs": []
    },
    {
      "cell_type": "code",
      "metadata": {
        "id": "ZBnfUwxla28F",
        "colab_type": "code",
        "outputId": "443f979c-4f0e-44b2-f66c-a90f7330ad91",
        "colab": {
          "base_uri": "https://localhost:8080/",
          "height": 51
        }
      },
      "source": [
        "# Normalizar valores\n",
        "price_X = regularization(price_X)\n",
        "price_Y = regularization(price_Y)\n",
        "\n",
        "ocean_X = regularization(ocean_X)\n",
        "ocean_Y = regularization(ocean_Y)\n",
        "\n",
        "petrol_X = regularization(petrol_X)\n",
        "petrol_Y = regularization(petrol_Y)\n",
        "\n",
        "print(np.mean(ocean_X))\n",
        "print(np.std(ocean_X))"
      ],
      "execution_count": 319,
      "outputs": [
        {
          "output_type": "stream",
          "text": [
            "-1.94536244962659e-15\n",
            "0.49999999999999994\n"
          ],
          "name": "stdout"
        }
      ]
    },
    {
      "cell_type": "code",
      "metadata": {
        "id": "Xyc4RG3ksXmy",
        "colab_type": "code",
        "colab": {}
      },
      "source": [
        "# Dividiendo training set && validation set\n",
        "from sklearn.model_selection import train_test_split\n",
        "\n",
        "price_X_train, price_X_val, price_Y_train, price_Y_val = train_test_split(price_X, price_Y, test_size = 0.33, random_state = 5)\n",
        "ocean_X_train, ocean_X_val, ocean_Y_train, ocean_Y_val = train_test_split(ocean_X, ocean_Y, test_size = 0.33, random_state = 5)\n",
        "petrol_X_train, petrol_X_val, petrol_Y_train, petrol_Y_val = train_test_split(petrol_X, petrol_Y, test_size = 0.33, random_state = 5)"
      ],
      "execution_count": 0,
      "outputs": []
    },
    {
      "cell_type": "code",
      "metadata": {
        "id": "Bcbjvphft18a",
        "colab_type": "code",
        "colab": {}
      },
      "source": [
        "# Rectificando datos\n",
        "price_X_train = price_X_train.T\n",
        "price_Y_train = np.array([price_Y_train])\n",
        "\n",
        "price_X_val = price_X_val.T\n",
        "price_Y_val = np.array([price_Y_val])\n",
        "\n",
        "ocean_X_train = ocean_X_train.T\n",
        "ocean_Y_train = np.array([ocean_Y_train])\n",
        "\n",
        "ocean_X_val = ocean_X_val.T\n",
        "ocean_Y_val = np.array([ocean_Y_val])\n",
        "\n",
        "petrol_X_train = petrol_X_train.T\n",
        "petrol_Y_train = np.array([petrol_Y_train])\n",
        "\n",
        "petrol_X_val = petrol_X_val.T\n",
        "petrol_Y_val = np.array([petrol_Y_val])"
      ],
      "execution_count": 0,
      "outputs": []
    },
    {
      "cell_type": "code",
      "metadata": {
        "id": "WWzwEuHYLsnT",
        "colab_type": "code",
        "colab": {}
      },
      "source": [
        "# Llamando a la regresion lineal\n",
        "history_price =  lineal_regression_model(price_X_train, price_Y_train, price_X_val, price_Y_val, 0.01, 5000)\n",
        "history_ocean =  lineal_regression_model(ocean_X_train, ocean_Y_train, ocean_X_val, ocean_Y_val, 0.01, 5000)\n",
        "history_petrol =  lineal_regression_model(petrol_X_train, petrol_Y_train, petrol_X_val, petrol_Y_val, 0.01, 5000)"
      ],
      "execution_count": 0,
      "outputs": []
    },
    {
      "cell_type": "code",
      "metadata": {
        "id": "VdYrImJ28lRM",
        "colab_type": "code",
        "outputId": "fb434e55-c696-4728-deab-ca0bb32747d1",
        "colab": {
          "base_uri": "https://localhost:8080/",
          "height": 265
        }
      },
      "source": [
        "# Grafica Datos price\n",
        "m = history_price.item((-1,0)).item(0)\n",
        "b = history_price.item((-1,1))\n",
        "\n",
        "print(\"m: \" + str(m) + \"| b: \" + str(b))\n",
        "m_history_price = history_price[:,0]\n",
        "b_history_price = history_price[:,1]\n",
        "\n",
        "fig = plt.figure()\n",
        "ax = fig.add_subplot(1, 1, 1)\n",
        "x = np.linspace(-5,5,100).T\n",
        "ax.spines['left'].set_position('center')\n",
        "ax.spines['bottom'].set_position('center')\n",
        "ax.spines['right'].set_color('none')\n",
        "ax.spines['top'].set_color('none')\n",
        "ax.xaxis.set_ticks_position('bottom')\n",
        "ax.yaxis.set_ticks_position('left')\n",
        "plt.scatter(price_X_train, price_Y_train)\n",
        "x = np.arange(-1, 2, 0.2)\n",
        "y = m * x + b\n",
        "plt.plot(x, y, '-r')\n",
        "plt.grid()\n",
        "plt.show()"
      ],
      "execution_count": 323,
      "outputs": [
        {
          "output_type": "stream",
          "text": [
            "m: 0.8415822048819982| b: -0.01256363409175318\n"
          ],
          "name": "stdout"
        },
        {
          "output_type": "display_data",
          "data": {
            "image/png": "[encoded data removed]",
            "text/plain": [
              "<Figure size 432x288 with 1 Axes>"
            ]
          },
          "metadata": {
            "tags": [],
            "needs_background": "light"
          }
        }
      ]
    },
    {
      "cell_type": "code",
      "metadata": {
        "id": "Ir52tfTanJEp",
        "colab_type": "code",
        "outputId": "1e8fd665-89ae-4bb8-8524-b43a49b7ff36",
        "colab": {
          "base_uri": "https://localhost:8080/",
          "height": 282
        }
      },
      "source": [
        "# Ecuacion Normal price\n",
        "X_1 = np.array([np.ones(np.shape(price_X_train)[0]), price_X_train]).T\n",
        "B = np.linalg.inv(X_1.T @ X_1) @ X_1.T @ price_Y_train.T\n",
        "m = B[1]\n",
        "b = B[0]\n",
        "print(\"m:\" +  str(B[1]))\n",
        "print(\"b:\" +  str(B[0]))\n",
        "\n",
        "fig = plt.figure()\n",
        "ax = fig.add_subplot(1, 1, 1)\n",
        "x = np.linspace(-5,5,100)\n",
        "ax.spines['left'].set_position('center')\n",
        "ax.spines['bottom'].set_position('center')\n",
        "ax.spines['right'].set_color('none')\n",
        "ax.spines['top'].set_color('none')\n",
        "ax.xaxis.set_ticks_position('bottom')\n",
        "ax.yaxis.set_ticks_position('left')\n",
        "plt.scatter(price_X_train, price_Y_train)\n",
        "x = np.arange(-1, 2, 0.2)\n",
        "y = m * x + b\n",
        "plt.plot(x, y, '-r')\n",
        "plt.grid()\n",
        "plt.show()"
      ],
      "execution_count": 324,
      "outputs": [
        {
          "output_type": "stream",
          "text": [
            "m:[0.84158228]\n",
            "b:[-0.01256363]\n"
          ],
          "name": "stdout"
        },
        {
          "output_type": "display_data",
          "data": {
            "image/png": "[encoded data removed]",
            "text/plain": [
              "<Figure size 432x288 with 1 Axes>"
            ]
          },
          "metadata": {
            "tags": [],
            "needs_background": "light"
          }
        }
      ]
    },
    {
      "cell_type": "code",
      "metadata": {
        "id": "Vd0Dfrg_CdH6",
        "colab_type": "code",
        "colab": {
          "base_uri": "https://localhost:8080/",
          "height": 267
        },
        "outputId": "c48de4b6-af93-4113-8336-c1102570b78d"
      },
      "source": [
        "# Grafica Datos ocean\n",
        "m = history_ocean.item((-1,0)).item(0)\n",
        "b = history_ocean.item((-1,1))\n",
        "\n",
        "print(\"m: \" + str(m) + \"| b: \" + str(b))\n",
        "m_history_ocean = history_ocean[:,0]\n",
        "b_history_ocean = history_ocean[:,1]\n",
        "\n",
        "fig = plt.figure()\n",
        "ax = fig.add_subplot(1, 1, 1)\n",
        "x = np.linspace(-5,5,100).T\n",
        "ax.spines['left'].set_position('center')\n",
        "ax.spines['bottom'].set_position('center')\n",
        "ax.spines['right'].set_color('none')\n",
        "ax.spines['top'].set_color('none')\n",
        "ax.xaxis.set_ticks_position('bottom')\n",
        "ax.yaxis.set_ticks_position('left')\n",
        "plt.scatter(ocean_X_train, ocean_Y_train)\n",
        "x = np.arange(-1, 2, 0.2)\n",
        "y = m * x + b\n",
        "plt.plot(x, y, '-r')\n",
        "plt.grid()\n",
        "plt.show()"
      ],
      "execution_count": 325,
      "outputs": [
        {
          "output_type": "stream",
          "text": [
            "m: -0.9131260072902373| b: -0.004301953964567279\n"
          ],
          "name": "stdout"
        },
        {
          "output_type": "display_data",
          "data": {
            "image/png": "[encoded data removed]",
            "text/plain": [
              "<Figure size 432x288 with 1 Axes>"
            ]
          },
          "metadata": {
            "tags": [],
            "needs_background": "light"
          }
        }
      ]
    },
    {
      "cell_type": "code",
      "metadata": {
        "id": "njDvqK-pCigy",
        "colab_type": "code",
        "colab": {
          "base_uri": "https://localhost:8080/",
          "height": 284
        },
        "outputId": "77197b0c-9d0c-4fd5-f8ae-b48db10a7de0"
      },
      "source": [
        "# Ecuacion Normal ocean\n",
        "X_1 = np.array([np.ones(np.shape(ocean_X_train)[0]), ocean_X_train]).T\n",
        "B = np.linalg.inv(X_1.T @ X_1) @ X_1.T @ ocean_Y_train.T\n",
        "m = B[1]\n",
        "b = B[0]\n",
        "print(\"m:\" +  str(B[1]))\n",
        "print(\"b:\" +  str(B[0]))\n",
        "\n",
        "fig = plt.figure()\n",
        "ax = fig.add_subplot(1, 1, 1)\n",
        "x = np.linspace(-5,5,100)\n",
        "ax.spines['left'].set_position('center')\n",
        "ax.spines['bottom'].set_position('center')\n",
        "ax.spines['right'].set_color('none')\n",
        "ax.spines['top'].set_color('none')\n",
        "ax.xaxis.set_ticks_position('bottom')\n",
        "ax.yaxis.set_ticks_position('left')\n",
        "plt.scatter(ocean_X_train, ocean_Y_train)\n",
        "x = np.arange(-1, 2, 0.2)\n",
        "y = m * x + b\n",
        "plt.plot(x, y, '-r')\n",
        "plt.grid()\n",
        "plt.show()"
      ],
      "execution_count": 326,
      "outputs": [
        {
          "output_type": "stream",
          "text": [
            "m:[-0.91312856]\n",
            "b:[-0.00430199]\n"
          ],
          "name": "stdout"
        },
        {
          "output_type": "display_data",
          "data": {
            "image/png": "[encoded data removed]",
            "text/plain": [
              "<Figure size 432x288 with 1 Axes>"
            ]
          },
          "metadata": {
            "tags": [],
            "needs_background": "light"
          }
        }
      ]
    }
  ]
}