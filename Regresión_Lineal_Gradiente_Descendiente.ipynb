{
  "nbformat": 4,
  "nbformat_minor": 0,
  "metadata": {
    "colab": {
      "name": "Regresión Lineal Gradiente Descendiente.ipynb",
      "provenance": [],
      "collapsed_sections": [],
      "mount_file_id": "1td656iqfqH83lyRCWROvJ9OEfLvTT9Wu",
      "authorship_tag": "ABX9TyPUe6NMonIjVA9L+sjaDnk8",
      "include_colab_link": true
    },
    "kernelspec": {
      "name": "python3",
      "display_name": "Python 3"
    }
  },
  "cells": [
    {
      "cell_type": "markdown",
      "metadata": {
        "id": "view-in-github",
        "colab_type": "text"
      },
      "source": [
        "<a href=\"https://colab.research.google.com/github/dantecarlo/Linear-Regression-with-Gradient-Descent/blob/master/Regresi%C3%B3n_Lineal_Gradiente_Descendiente.ipynb\" target=\"_parent\"><img src=\"https://colab.research.google.com/assets/colab-badge.svg\" alt=\"Open In Colab\"/></a>"
      ]
    },
    {
      "cell_type": "code",
      "metadata": {
        "id": "5yiUzJh2-C1Y",
        "colab_type": "code",
        "colab": {}
      },
      "source": [
        "#Importando librerias neceserias\n",
        "import numpy as np\n",
        "import pandas as pd\n",
        "\n",
        "import sklearn\n",
        "\n",
        "import matplotlib.pyplot as plt"
      ],
      "execution_count": 0,
      "outputs": []
    },
    {
      "cell_type": "code",
      "metadata": {
        "id": "NPV0AEwSgk3p",
        "colab_type": "code",
        "colab": {}
      },
      "source": [
        "# Paso 1 - Inicializar Vector w y b\n",
        "def initialize_parameters(lenw):\n",
        "  # w = np.random.randn(1, lenw)\n",
        "  w = np.zeros((1,lenw))\n",
        "  b = 0\n",
        "  return w, b"
      ],
      "execution_count": 0,
      "outputs": []
    },
    {
      "cell_type": "code",
      "metadata": {
        "id": "in6fJUMyg45k",
        "colab_type": "code",
        "colab": {}
      },
      "source": [
        "# Paso 2 - Encontrar Vector: z = w X + b (Forward propagation) -> z = hypothesis\n",
        "def forward_prop(X, w, b): # w --> 1xn, X --> nxm\n",
        "  z = np.dot(w, X) + b # z --> 1xm b_vector = [b, b, b, ...]\n",
        "  return z\n",
        "\n",
        "def hypothesis(X, Theta, b_value):\n",
        "  if(len(X.shape) == 1):\n",
        "    X = np.array([X])\n",
        "  h = np.dot(Theta.T, X) + b_value\n",
        "  return h "
      ],
      "execution_count": 0,
      "outputs": []
    },
    {
      "cell_type": "code",
      "metadata": {
        "id": "-Cpa1cpHg66t",
        "colab_type": "code",
        "colab": {}
      },
      "source": [
        "# Paso 3 - Definir la funcion de Costo J = 1/2m * sum((z - y)^2)\n",
        "def cost_function(z, y):\n",
        "  m = y.shape[1]\n",
        "  J = (1 / (2 * m)) * np.sum(np.square(z-y))\n",
        "  return J"
      ],
      "execution_count": 0,
      "outputs": []
    },
    {
      "cell_type": "code",
      "metadata": {
        "id": "wZg7LwzIg94i",
        "colab_type": "code",
        "colab": {}
      },
      "source": [
        "# Paso 4 - Back propagation: dz = 1/m * (z - y) && dw = dz * X.T && db = sum(dz)\n",
        "def back_prop(X, y, z):\n",
        "  m = y.shape[1]\n",
        "  dz = (1 / m) * (z - y)\n",
        "  dw = np.dot(dz, X.T) # dw --> 1xn\n",
        "  db = np.sum(dz)\n",
        "  \n",
        "  return dw, db"
      ],
      "execution_count": 0,
      "outputs": []
    },
    {
      "cell_type": "code",
      "metadata": {
        "id": "rCt-XzQZES5S",
        "colab_type": "code",
        "colab": {}
      },
      "source": [
        "#  Gradient Descent Univariada\n",
        "# def gradient_descent_uni(x, y, iterations = 10000, learning_rate = 0.01):\n",
        "#   grad = np.empty([1,3])\n",
        "#   m_current = b_current = 0\n",
        "#   n = len(x)\n",
        "#   plt.scatter(x, y , marker = '+', alpha = 0.8, color=\"blue\")\n",
        "#   for _ in range(iterations):\n",
        "#     y_predicted = func(x, m_current, b_current)\n",
        "    \n",
        "#     if( _ % 100 == 0 ):\n",
        "#       plt.scatter(x, y , marker = '+', alpha = 0.8, color=\"blue\")\n",
        "#       plt.plot(x, y_predicted, color = 'red')\n",
        "\n",
        "#     cost = (1/n) * sum([val**2 for val in (y - y_predicted)])\n",
        "\n",
        "#     md = -(2/n) * np.sum(x * (y - y_predicted))\n",
        "#     bd = -(2/n) * np.sum((y - y_predicted))\n",
        "\n",
        "#     m_current = m_current - learning_rate * md\n",
        "#     b_current = b_current - learning_rate * bd\n",
        "#     # print (\"m {}, b {}, cost {}\".format(m_current,b_current,cost))\n",
        "#     # plt.plot(_, cost, \".\" ,  color = 'red')\n",
        "#     grad = np.append(grad, [[m_current, b_current, cost]], axis = 0)\n",
        "#   # print(grad)\n",
        "#   return grad"
      ],
      "execution_count": 0,
      "outputs": []
    },
    {
      "cell_type": "code",
      "metadata": {
        "id": "InzuhSK7g-q6",
        "colab_type": "code",
        "colab": {}
      },
      "source": [
        "# Paso 5 - Gradiente descendente: error del back propagation\n",
        "def gradient_descent_error(w, b ,dw, db, learning_rate):\n",
        "  w = w - learning_rate * dw\n",
        "  b = b - learning_rate * db\n",
        "  \n",
        "  return w, b\n",
        "\n",
        "# Gradiente descendente: Obtener los valores\n",
        "def gradient_descent(X, y, Theta, b_value, m, h, learning_rate):\n",
        "  Theta = Theta - learning_rate * (1 / m) * np.sum((h - y) @ X.T) \n",
        "  b_value = b_value - learning_rate * (1 / m) * np.sum(h - y) \n",
        "\n",
        "  return Theta, b_value"
      ],
      "execution_count": 0,
      "outputs": []
    },
    {
      "cell_type": "code",
      "metadata": {
        "id": "yfZcKHwDhANK",
        "colab_type": "code",
        "colab": {}
      },
      "source": [
        "# Paso 6 - L.R.model\n",
        "def lineal_regression_model(X_train, y_train, X_val, y_val, learning_rate, iterations, draw = 0):\n",
        "  lenw = X_train.shape[0]\n",
        "  w, b = initialize_parameters(lenw) # Paso 1\n",
        "  if len(X_train.shape) == 1:\n",
        "    Theta = np.zeros((1, 1))\n",
        "  else:\n",
        "    Theta = np.zeros((X_train.shape[0], 1))\n",
        "\n",
        "  b_value = 0\n",
        "  \n",
        "  costs_train = []\n",
        "  m_train = y_train.shape[1]\n",
        "  m_val = y_val.shape[1]\n",
        "\n",
        "  history_values = []\n",
        "\n",
        "  for i in range(1, iterations + 1):\n",
        "    z_train = forward_prop(X_train, w, b) # Paso 2\n",
        "    cost_train = cost_function(z_train, y_train) # Paso 3\n",
        "    dw, db = back_prop(X_train, y_train, z_train) # Paso 4\n",
        "\n",
        "    h = hypothesis(X_train, Theta, b_value)\n",
        "    Theta, b_value = gradient_descent(X_train, y_train, Theta, b_value, lenw, h, learning_rate)\n",
        "    w, b = gradient_descent_error(w, b, dw, db, learning_rate) # Paso 5\n",
        "\n",
        "    # MAE_train\n",
        "    MAE_train = (1 / m_train) * np.sum(np.abs(z_train - y_train))\n",
        "    RMSE_train = np.sqrt((1 / m_train) * np.sum(np.square(z_train - y_train)))\n",
        "    \n",
        "    if i % 10 == 0:\n",
        "      costs_train.append(cost_train)\n",
        "\n",
        "\n",
        "    history_values.append([Theta[:][0], b_value, RMSE_train])\n",
        "    # cost_val, MAE_val\n",
        "    lenw_val = X_val.shape[0]\n",
        "    w_val, b_val = initialize_parameters(lenw_val) # Paso 1\n",
        "    z_val = forward_prop(X_val, w_val, b_val)\n",
        "    cost_val = cost_function(z_val, y_val)\n",
        "    MAE_val = (1 / m_val) * np.sum(np.abs(z_val - y_val))\n",
        "\n",
        "    # Imprimir cost_train, cost_ val, MAE_train, MAE_val\n",
        "    # print(\"Iteracion \" + str(i) + \"/\" + str(iterations) + \": \")\n",
        "    # print(\"Training cost \" + str(cost_train) + \"|\" + \"Validation cost \" + str(cost_val))\n",
        "    # print(\"Training MAE \" + str(MAE_train) + \"|\" + \"Validation MAE \" + str(MAE_val))\n",
        "    # print(\"Training b \" + str(b) + \"|\" + \"Validation b \" + str(b_val))\n",
        "    # print(\"Training z_train \" + str(z_train) + \"|\" + \"Validation z_val \" + str(z_val))\n",
        "\n",
        "  if draw :\n",
        "    plt.plot(costs_train)\n",
        "    plt.xlabel(\"Iterations(per tens)\")\n",
        "    plt.ylabel(\"Training cost\")\n",
        "    plt.title(\"Learning rate\" + str(learning_rate))\n",
        "    # plt.grid()\n",
        "    plt.show()\n",
        "  history_values = np.array(history_values)\n",
        "  return history_values"
      ],
      "execution_count": 0,
      "outputs": []
    },
    {
      "cell_type": "code",
      "metadata": {
        "id": "o9dSZrhS-S7U",
        "colab_type": "code",
        "colab": {}
      },
      "source": [
        "# Importando data\n",
        "price = pd.read_csv(\"/content/drive/My Drive/Cursos/TIA/Regresion Lineal con Gradiente Descendiente/ex1data2(Home_1f).csv\", sep='\\t')\n",
        "ocean = pd.read_csv(\"/content/drive/My Drive/Cursos/TIA/Regresion Lineal con Gradiente Descendiente/oceano_simple.csv\", sep='\\t')\n",
        "petrol = pd.read_csv(\"/content/drive/My Drive/Cursos/TIA/Regresion Lineal con Gradiente Descendiente/petrol_consumption.csv\", sep='\\t')"
      ],
      "execution_count": 0,
      "outputs": []
    },
    {
      "cell_type": "code",
      "metadata": {
        "id": "vUpfmDouFydU",
        "colab_type": "code",
        "colab": {}
      },
      "source": [
        "# Transformando a np.array\n",
        "price_X = np.array(price[\"Size_(m2)\"])\n",
        "price_Y = np.array(price[\"Price\"])\n",
        "\n",
        "ocean_X = np.array(ocean[\"Sal\"])\n",
        "ocean_Y = np.array(ocean[\"Temp\"])\n",
        "\n",
        "petrol_X = np.array(petrol[[\"Petrol_tax\", \"Average_income\", \"Paved_Highways\", \"Population_Driver_licence(%)\"]])\n",
        "petrol_Y = np.array(petrol[\"Petrol_Consumption\"])"
      ],
      "execution_count": 0,
      "outputs": []
    },
    {
      "cell_type": "code",
      "metadata": {
        "id": "PMpANHTubZDl",
        "colab_type": "code",
        "colab": {}
      },
      "source": [
        "# Funcion de regularizacion\n",
        "def regularization(matrx):\n",
        "  matrx = (matrx - np.mean(matrx)) / (2 * np.std(matrx))\n",
        "  # matrx = (matrx - np.mean(matrx)) / (np.max(matrx) - np.min(matrx))\n",
        "  return matrx"
      ],
      "execution_count": 0,
      "outputs": []
    },
    {
      "cell_type": "code",
      "metadata": {
        "id": "ZBnfUwxla28F",
        "colab_type": "code",
        "outputId": "b414c0da-7b67-40eb-d2e0-191035a9bb9a",
        "colab": {
          "base_uri": "https://localhost:8080/",
          "height": 51
        }
      },
      "source": [
        "# Normalizar valores\n",
        "price_X = regularization(price_X)\n",
        "price_Y = regularization(price_Y)\n",
        "\n",
        "ocean_X = regularization(ocean_X)\n",
        "ocean_Y = regularization(ocean_Y)\n",
        "\n",
        "petrol_X = regularization(petrol_X)\n",
        "petrol_Y = regularization(petrol_Y)\n",
        "\n",
        "print(np.mean(ocean_X))\n",
        "print(np.std(ocean_X))"
      ],
      "execution_count": 116,
      "outputs": [
        {
          "output_type": "stream",
          "text": [
            "-1.94536244962659e-15\n",
            "0.49999999999999994\n"
          ],
          "name": "stdout"
        }
      ]
    },
    {
      "cell_type": "code",
      "metadata": {
        "id": "Xyc4RG3ksXmy",
        "colab_type": "code",
        "colab": {}
      },
      "source": [
        "# Dividiendo training set && validation set\n",
        "from sklearn.model_selection import train_test_split\n",
        "\n",
        "price_X_train, price_X_val, price_Y_train, price_Y_val = train_test_split(price_X, price_Y, test_size = 0.33, random_state = 5)\n",
        "ocean_X_train, ocean_X_val, ocean_Y_train, ocean_Y_val = train_test_split(ocean_X, ocean_Y, test_size = 0.33, random_state = 5)\n",
        "petrol_X_train, petrol_X_val, petrol_Y_train, petrol_Y_val = train_test_split(petrol_X, petrol_Y, test_size = 0.33, random_state = 5)"
      ],
      "execution_count": 0,
      "outputs": []
    },
    {
      "cell_type": "code",
      "metadata": {
        "id": "Bcbjvphft18a",
        "colab_type": "code",
        "colab": {}
      },
      "source": [
        "# Rectificando datos\n",
        "price_X_train = price_X_train.T\n",
        "price_Y_train = np.array([price_Y_train])\n",
        "\n",
        "price_X_val = price_X_val.T\n",
        "price_Y_val = np.array([price_Y_val])\n",
        "\n",
        "ocean_X_train = ocean_X_train.T\n",
        "ocean_Y_train = np.array([ocean_Y_train])\n",
        "\n",
        "ocean_X_val = ocean_X_val.T\n",
        "ocean_Y_val = np.array([ocean_Y_val])\n",
        "\n",
        "petrol_X_train = petrol_X_train.T\n",
        "petrol_Y_train = np.array([petrol_Y_train])\n",
        "\n",
        "petrol_X_val = petrol_X_val.T\n",
        "petrol_Y_val = np.array([petrol_Y_val])"
      ],
      "execution_count": 0,
      "outputs": []
    },
    {
      "cell_type": "code",
      "metadata": {
        "id": "WWzwEuHYLsnT",
        "colab_type": "code",
        "outputId": "5fd7e141-1839-4361-cf2a-60fcd4390209",
        "colab": {
          "base_uri": "https://localhost:8080/",
          "height": 902
        }
      },
      "source": [
        "# Llamando a la regresion lineal\n",
        "learning_rate = 0.01\n",
        "iterations = 5000\n",
        "print(\"Precio Viviendas\")\n",
        "history_price = lineal_regression_model(price_X_train, price_Y_train, price_X_val, price_Y_val, learning_rate, iterations, 1)\n",
        "print(\"Temperatura Oceánica\")\n",
        "history_ocean = lineal_regression_model(ocean_X_train, ocean_Y_train, ocean_X_val, ocean_Y_val, learning_rate, iterations, 1)\n",
        "print(\"Consumo de Petroleo\")\n",
        "history_petrol = lineal_regression_model(petrol_X_train, petrol_Y_train, petrol_X_val, petrol_Y_val, learning_rate, iterations, 1)"
      ],
      "execution_count": 129,
      "outputs": [
        {
          "output_type": "stream",
          "text": [
            "Precio Viviendas\n"
          ],
          "name": "stdout"
        },
        {
          "output_type": "display_data",
          "data": {
            "image/png": "[encoded data removed]",
            "text/plain": [
              "<Figure size 432x288 with 1 Axes>"
            ]
          },
          "metadata": {
            "tags": [],
            "needs_background": "light"
          }
        },
        {
          "output_type": "stream",
          "text": [
            "Temperatura Oceánica\n"
          ],
          "name": "stdout"
        },
        {
          "output_type": "display_data",
          "data": {
            "image/png": "[encoded data removed]",
            "text/plain": [
              "<Figure size 432x288 with 1 Axes>"
            ]
          },
          "metadata": {
            "tags": [],
            "needs_background": "light"
          }
        },
        {
          "output_type": "stream",
          "text": [
            "Consumo de Petroleo\n"
          ],
          "name": "stdout"
        },
        {
          "output_type": "display_data",
          "data": {
            "image/png": "[encoded data removed]",
            "text/plain": [
              "<Figure size 432x288 with 1 Axes>"
            ]
          },
          "metadata": {
            "tags": [],
            "needs_background": "light"
          }
        }
      ]
    },
    {
      "cell_type": "code",
      "metadata": {
        "id": "qsz0VjOJan1u",
        "colab_type": "code",
        "outputId": "9b87b018-e32a-4c78-88b9-c0842c9e9ec4",
        "colab": {
          "base_uri": "https://localhost:8080/",
          "height": 102
        }
      },
      "source": [
        "# Tabla RMSE\n",
        "print(\" ----------------------------------------------------------------------------\")\n",
        "print(\"|          | Precio Viviendas   | Temperatura Oceanica | Consumo de Petróleo |\")\n",
        "print(\" ----------------------------------------------------------------------------\")\n",
        "print(\"|   RMSE   | \" + str(history_price[-1].item(2)) + \" | \" + str(history_ocean[-1].item(2)) + \"   | \" + str(history_petrol[-1].item(2)) + \"  |\")\n",
        "print(\" ----------------------------------------------------------------------------\")\n"
      ],
      "execution_count": 100,
      "outputs": [
        {
          "output_type": "stream",
          "text": [
            " ----------------------------------------------------------------------------\n",
            "|          | Precio Viviendas   | Temperatura Oceanica | Consumo de Petróleo |\n",
            " ----------------------------------------------------------------------------\n",
            "|   RMSE   | 0.5548640806516302 | 0.8570648947762475   | 0.5140422584922648  |\n",
            " ----------------------------------------------------------------------------\n"
          ],
          "name": "stdout"
        }
      ]
    },
    {
      "cell_type": "code",
      "metadata": {
        "id": "YzCROu3dee5S",
        "colab_type": "code",
        "outputId": "22b57e96-6930-4173-9e0d-0d41f893e2ab",
        "colab": {
          "base_uri": "https://localhost:8080/",
          "height": 71
        }
      },
      "source": [
        "# Hiperparametros Optimos\n",
        "learning_rate_v = [0.01, 0.05, 0.1, 0.2, 0.3, 0.4]\n",
        "iterations_v = [*range(500, 3500, 500)]\n",
        "history_price = []\n",
        "\n",
        "for learning_rate in learning_rate_v:\n",
        "  for iterations in iterations_v:\n",
        "    history = lineal_regression_model(price_X_train, price_Y_train, price_X_val, price_Y_val, learning_rate, iterations)\n",
        "    history_price.append([learning_rate_v, iterations, history[-1].item(2)])\n",
        "\n",
        "print(history_price)\n",
        "\n",
        "history_ocean = []\n",
        "\n",
        "for learning_rate in learning_rate_v:\n",
        "  for iterations in iterations_v:\n",
        "    history = lineal_regression_model(ocean_X_train, ocean_Y_train, ocean_X_val, ocean_Y_val, learning_rate, iterations)\n",
        "    history_ocean.append([learning_rate_v, iterations, history[-1].item(2)])\n",
        "\n",
        "print(history_ocean)\n"
      ],
      "execution_count": 101,
      "outputs": [
        {
          "output_type": "stream",
          "text": [
            "[[[0.01, 0.05, 0.1, 0.2, 0.3, 0.4], 500, 0.5544386240600271], [[0.01, 0.05, 0.1, 0.2, 0.3, 0.4], 1000, 0.5548614771255403], [[0.01, 0.05, 0.1, 0.2, 0.3, 0.4], 1500, 0.5548640647704453], [[0.01, 0.05, 0.1, 0.2, 0.3, 0.4], 2000, 0.5548640805547639], [[0.01, 0.05, 0.1, 0.2, 0.3, 0.4], 2500, 0.5548640806510421], [[0.01, 0.05, 0.1, 0.2, 0.3, 0.4], 3000, 0.5548640806516392], [[0.01, 0.05, 0.1, 0.2, 0.3, 0.4], 500, 0.5548640806512748], [[0.01, 0.05, 0.1, 0.2, 0.3, 0.4], 1000, 0.5548640806516313], [[0.01, 0.05, 0.1, 0.2, 0.3, 0.4], 1500, 0.55486408065164], [[0.01, 0.05, 0.1, 0.2, 0.3, 0.4], 2000, 0.5548640806516354], [[0.01, 0.05, 0.1, 0.2, 0.3, 0.4], 2500, 0.5548640806516237], [[0.01, 0.05, 0.1, 0.2, 0.3, 0.4], 3000, 0.5548640806516248], [[0.01, 0.05, 0.1, 0.2, 0.3, 0.4], 500, 0.554864080651636], [[0.01, 0.05, 0.1, 0.2, 0.3, 0.4], 1000, 0.5548640806516295], [[0.01, 0.05, 0.1, 0.2, 0.3, 0.4], 1500, 0.554864080651639], [[0.01, 0.05, 0.1, 0.2, 0.3, 0.4], 2000, 0.5548640806516354], [[0.01, 0.05, 0.1, 0.2, 0.3, 0.4], 2500, 0.5548640806516215], [[0.01, 0.05, 0.1, 0.2, 0.3, 0.4], 3000, 0.5548640806516145], [[0.01, 0.05, 0.1, 0.2, 0.3, 0.4], 500, 0.5548640806516412], [[0.01, 0.05, 0.1, 0.2, 0.3, 0.4], 1000, 0.5548640806516307], [[0.01, 0.05, 0.1, 0.2, 0.3, 0.4], 1500, 0.5548640806516331], [[0.01, 0.05, 0.1, 0.2, 0.3, 0.4], 2000, 0.5548640806516447], [[0.01, 0.05, 0.1, 0.2, 0.3, 0.4], 2500, 0.5548640806516215], [[0.01, 0.05, 0.1, 0.2, 0.3, 0.4], 3000, 0.5548640806516169], [[0.01, 0.05, 0.1, 0.2, 0.3, 0.4], 500, 0.5548640806516377], [[0.01, 0.05, 0.1, 0.2, 0.3, 0.4], 1000, 0.5548640806516307], [[0.01, 0.05, 0.1, 0.2, 0.3, 0.4], 1500, 0.5548640806516169], [[0.01, 0.05, 0.1, 0.2, 0.3, 0.4], 2000, 0.5548640806516493], [[0.01, 0.05, 0.1, 0.2, 0.3, 0.4], 2500, 0.5548640806516215], [[0.01, 0.05, 0.1, 0.2, 0.3, 0.4], 3000, 0.5548640806516586], [[0.01, 0.05, 0.1, 0.2, 0.3, 0.4], 500, 0.5548640806516424], [[0.01, 0.05, 0.1, 0.2, 0.3, 0.4], 1000, 0.5548640806516354], [[0.01, 0.05, 0.1, 0.2, 0.3, 0.4], 1500, 0.5548640806516215], [[0.01, 0.05, 0.1, 0.2, 0.3, 0.4], 2000, 0.5548640806516679], [[0.01, 0.05, 0.1, 0.2, 0.3, 0.4], 2500, 0.5548640806516029], [[0.01, 0.05, 0.1, 0.2, 0.3, 0.4], 3000, 0.55486408065164]]\n",
            "[[[0.01, 0.05, 0.1, 0.2, 0.3, 0.4], 500, 0.8538108162379717], [[0.01, 0.05, 0.1, 0.2, 0.3, 0.4], 1000, 0.8570463557030619], [[0.01, 0.05, 0.1, 0.2, 0.3, 0.4], 1500, 0.8570647892601841], [[0.01, 0.05, 0.1, 0.2, 0.3, 0.4], 2000, 0.8570648941760672], [[0.01, 0.05, 0.1, 0.2, 0.3, 0.4], 2500, 0.8570648947731895], [[0.01, 0.05, 0.1, 0.2, 0.3, 0.4], 3000, 0.8570648947766591], [[0.01, 0.05, 0.1, 0.2, 0.3, 0.4], 500, 0.8570648947745658], [[0.01, 0.05, 0.1, 0.2, 0.3, 0.4], 1000, 0.8570648947766678], [[0.01, 0.05, 0.1, 0.2, 0.3, 0.4], 1500, 0.8570648947766506], [[0.01, 0.05, 0.1, 0.2, 0.3, 0.4], 2000, 0.8570648947766333], [[0.01, 0.05, 0.1, 0.2, 0.3, 0.4], 2500, 0.8570648947765872], [[0.01, 0.05, 0.1, 0.2, 0.3, 0.4], 3000, 0.8570648947764604], [[0.01, 0.05, 0.1, 0.2, 0.3, 0.4], 500, 0.8570648947766275], [[0.01, 0.05, 0.1, 0.2, 0.3, 0.4], 1000, 0.8570648947766794], [[0.01, 0.05, 0.1, 0.2, 0.3, 0.4], 1500, 0.8570648947765757], [[0.01, 0.05, 0.1, 0.2, 0.3, 0.4], 2000, 0.8570648947766218], [[0.01, 0.05, 0.1, 0.2, 0.3, 0.4], 2500, 0.8570648947766218], [[0.01, 0.05, 0.1, 0.2, 0.3, 0.4], 3000, 0.8570648947763914], [[0.01, 0.05, 0.1, 0.2, 0.3, 0.4], 500, 0.8570648947766103], [[0.01, 0.05, 0.1, 0.2, 0.3, 0.4], 1000, 0.8570648947765988], [[0.01, 0.05, 0.1, 0.2, 0.3, 0.4], 1500, 0.8570648947768291], [[0.01, 0.05, 0.1, 0.2, 0.3, 0.4], 2000, 0.857064894776737], [[0.01, 0.05, 0.1, 0.2, 0.3, 0.4], 2500, 0.8570648947766448], [[0.01, 0.05, 0.1, 0.2, 0.3, 0.4], 3000, 0.8570648947764604], [[0.01, 0.05, 0.1, 0.2, 0.3, 0.4], 500, 0.8570648947766333], [[0.01, 0.05, 0.1, 0.2, 0.3, 0.4], 1000, 0.8570648947765527], [[0.01, 0.05, 0.1, 0.2, 0.3, 0.4], 1500, 0.8570648947763684], [[0.01, 0.05, 0.1, 0.2, 0.3, 0.4], 2000, 0.8570648947765988], [[0.01, 0.05, 0.1, 0.2, 0.3, 0.4], 2500, 0.8570648947770595], [[0.01, 0.05, 0.1, 0.2, 0.3, 0.4], 3000, 0.8570648947766909], [[0.01, 0.05, 0.1, 0.2, 0.3, 0.4], 500, 0.8570648947765757], [[0.01, 0.05, 0.1, 0.2, 0.3, 0.4], 1000, 0.8570648947765527], [[0.01, 0.05, 0.1, 0.2, 0.3, 0.4], 1500, 0.8570648947765988], [[0.01, 0.05, 0.1, 0.2, 0.3, 0.4], 2000, 0.8570648947765066], [[0.01, 0.05, 0.1, 0.2, 0.3, 0.4], 2500, 0.8570648947764145], [[0.01, 0.05, 0.1, 0.2, 0.3, 0.4], 3000, 0.8570648947760459]]\n"
          ],
          "name": "stdout"
        }
      ]
    },
    {
      "cell_type": "code",
      "metadata": {
        "id": "jMsgT-zXmGM7",
        "colab_type": "code",
        "outputId": "7667432f-9d78-4675-aa27-f08633d0e335",
        "colab": {
          "base_uri": "https://localhost:8080/",
          "height": 1000
        }
      },
      "source": [
        "print(\"Precio Viviendas\")\n",
        "print(\" -------------------------------------------\")\n",
        "print(\"| Tasa de Aprendizaje | Iteraciones | RMSE |\")\n",
        "print(\" -------------------------------------------\")\n",
        "for his in history_price:  \n",
        "  print(\"| \" + str(his[0]) +                \" | \" + str(his[1]) + \"    | \" + str(his[2]) + \"  |\")\n",
        "print(\" -------------------------------------------\")\n",
        "\n",
        "print(\"Temperatura Oceanica\")\n",
        "print(\" -------------------------------------------\")\n",
        "print(\"| Tasa de Aprendizaje | Iteraciones | RMSE |\")\n",
        "print(\" -------------------------------------------\")\n",
        "for his in history_ocean:  \n",
        "  print(\"| \" + str(his[0]) +                \" | \" + str(his[1]) + \"    | \" + str(his[2]) + \"  |\")\n",
        "print(\" -------------------------------------------\")\n",
        "\n",
        "# print(\"Consumo de Petróleo\")\n",
        "# print(\" -------------------------------------------\")\n",
        "# print(\"| Tasa de Aprendizaje | Iteraciones | RMSE |\")\n",
        "# print(\" -------------------------------------------\")\n",
        "# for his in history_v:  \n",
        "#   print(\"| \" + str(his[0]) +                \" | \" + str(his[1]) + \"    | \" + str(his[2]) + \"  |\")\n",
        "# print(\" -------------------------------------------\")"
      ],
      "execution_count": 102,
      "outputs": [
        {
          "output_type": "stream",
          "text": [
            "Precio Viviendas\n",
            " -------------------------------------------\n",
            "| Tasa de Aprendizaje | Iteraciones | RMSE |\n",
            " -------------------------------------------\n",
            "| [0.01, 0.05, 0.1, 0.2, 0.3, 0.4] | 500    | 0.5544386240600271  |\n",
            "| [0.01, 0.05, 0.1, 0.2, 0.3, 0.4] | 1000    | 0.5548614771255403  |\n",
            "| [0.01, 0.05, 0.1, 0.2, 0.3, 0.4] | 1500    | 0.5548640647704453  |\n",
            "| [0.01, 0.05, 0.1, 0.2, 0.3, 0.4] | 2000    | 0.5548640805547639  |\n",
            "| [0.01, 0.05, 0.1, 0.2, 0.3, 0.4] | 2500    | 0.5548640806510421  |\n",
            "| [0.01, 0.05, 0.1, 0.2, 0.3, 0.4] | 3000    | 0.5548640806516392  |\n",
            "| [0.01, 0.05, 0.1, 0.2, 0.3, 0.4] | 500    | 0.5548640806512748  |\n",
            "| [0.01, 0.05, 0.1, 0.2, 0.3, 0.4] | 1000    | 0.5548640806516313  |\n",
            "| [0.01, 0.05, 0.1, 0.2, 0.3, 0.4] | 1500    | 0.55486408065164  |\n",
            "| [0.01, 0.05, 0.1, 0.2, 0.3, 0.4] | 2000    | 0.5548640806516354  |\n",
            "| [0.01, 0.05, 0.1, 0.2, 0.3, 0.4] | 2500    | 0.5548640806516237  |\n",
            "| [0.01, 0.05, 0.1, 0.2, 0.3, 0.4] | 3000    | 0.5548640806516248  |\n",
            "| [0.01, 0.05, 0.1, 0.2, 0.3, 0.4] | 500    | 0.554864080651636  |\n",
            "| [0.01, 0.05, 0.1, 0.2, 0.3, 0.4] | 1000    | 0.5548640806516295  |\n",
            "| [0.01, 0.05, 0.1, 0.2, 0.3, 0.4] | 1500    | 0.554864080651639  |\n",
            "| [0.01, 0.05, 0.1, 0.2, 0.3, 0.4] | 2000    | 0.5548640806516354  |\n",
            "| [0.01, 0.05, 0.1, 0.2, 0.3, 0.4] | 2500    | 0.5548640806516215  |\n",
            "| [0.01, 0.05, 0.1, 0.2, 0.3, 0.4] | 3000    | 0.5548640806516145  |\n",
            "| [0.01, 0.05, 0.1, 0.2, 0.3, 0.4] | 500    | 0.5548640806516412  |\n",
            "| [0.01, 0.05, 0.1, 0.2, 0.3, 0.4] | 1000    | 0.5548640806516307  |\n",
            "| [0.01, 0.05, 0.1, 0.2, 0.3, 0.4] | 1500    | 0.5548640806516331  |\n",
            "| [0.01, 0.05, 0.1, 0.2, 0.3, 0.4] | 2000    | 0.5548640806516447  |\n",
            "| [0.01, 0.05, 0.1, 0.2, 0.3, 0.4] | 2500    | 0.5548640806516215  |\n",
            "| [0.01, 0.05, 0.1, 0.2, 0.3, 0.4] | 3000    | 0.5548640806516169  |\n",
            "| [0.01, 0.05, 0.1, 0.2, 0.3, 0.4] | 500    | 0.5548640806516377  |\n",
            "| [0.01, 0.05, 0.1, 0.2, 0.3, 0.4] | 1000    | 0.5548640806516307  |\n",
            "| [0.01, 0.05, 0.1, 0.2, 0.3, 0.4] | 1500    | 0.5548640806516169  |\n",
            "| [0.01, 0.05, 0.1, 0.2, 0.3, 0.4] | 2000    | 0.5548640806516493  |\n",
            "| [0.01, 0.05, 0.1, 0.2, 0.3, 0.4] | 2500    | 0.5548640806516215  |\n",
            "| [0.01, 0.05, 0.1, 0.2, 0.3, 0.4] | 3000    | 0.5548640806516586  |\n",
            "| [0.01, 0.05, 0.1, 0.2, 0.3, 0.4] | 500    | 0.5548640806516424  |\n",
            "| [0.01, 0.05, 0.1, 0.2, 0.3, 0.4] | 1000    | 0.5548640806516354  |\n",
            "| [0.01, 0.05, 0.1, 0.2, 0.3, 0.4] | 1500    | 0.5548640806516215  |\n",
            "| [0.01, 0.05, 0.1, 0.2, 0.3, 0.4] | 2000    | 0.5548640806516679  |\n",
            "| [0.01, 0.05, 0.1, 0.2, 0.3, 0.4] | 2500    | 0.5548640806516029  |\n",
            "| [0.01, 0.05, 0.1, 0.2, 0.3, 0.4] | 3000    | 0.55486408065164  |\n",
            " -------------------------------------------\n",
            "Temperatura Oceanica\n",
            " -------------------------------------------\n",
            "| Tasa de Aprendizaje | Iteraciones | RMSE |\n",
            " -------------------------------------------\n",
            "| [0.01, 0.05, 0.1, 0.2, 0.3, 0.4] | 500    | 0.8538108162379717  |\n",
            "| [0.01, 0.05, 0.1, 0.2, 0.3, 0.4] | 1000    | 0.8570463557030619  |\n",
            "| [0.01, 0.05, 0.1, 0.2, 0.3, 0.4] | 1500    | 0.8570647892601841  |\n",
            "| [0.01, 0.05, 0.1, 0.2, 0.3, 0.4] | 2000    | 0.8570648941760672  |\n",
            "| [0.01, 0.05, 0.1, 0.2, 0.3, 0.4] | 2500    | 0.8570648947731895  |\n",
            "| [0.01, 0.05, 0.1, 0.2, 0.3, 0.4] | 3000    | 0.8570648947766591  |\n",
            "| [0.01, 0.05, 0.1, 0.2, 0.3, 0.4] | 500    | 0.8570648947745658  |\n",
            "| [0.01, 0.05, 0.1, 0.2, 0.3, 0.4] | 1000    | 0.8570648947766678  |\n",
            "| [0.01, 0.05, 0.1, 0.2, 0.3, 0.4] | 1500    | 0.8570648947766506  |\n",
            "| [0.01, 0.05, 0.1, 0.2, 0.3, 0.4] | 2000    | 0.8570648947766333  |\n",
            "| [0.01, 0.05, 0.1, 0.2, 0.3, 0.4] | 2500    | 0.8570648947765872  |\n",
            "| [0.01, 0.05, 0.1, 0.2, 0.3, 0.4] | 3000    | 0.8570648947764604  |\n",
            "| [0.01, 0.05, 0.1, 0.2, 0.3, 0.4] | 500    | 0.8570648947766275  |\n",
            "| [0.01, 0.05, 0.1, 0.2, 0.3, 0.4] | 1000    | 0.8570648947766794  |\n",
            "| [0.01, 0.05, 0.1, 0.2, 0.3, 0.4] | 1500    | 0.8570648947765757  |\n",
            "| [0.01, 0.05, 0.1, 0.2, 0.3, 0.4] | 2000    | 0.8570648947766218  |\n",
            "| [0.01, 0.05, 0.1, 0.2, 0.3, 0.4] | 2500    | 0.8570648947766218  |\n",
            "| [0.01, 0.05, 0.1, 0.2, 0.3, 0.4] | 3000    | 0.8570648947763914  |\n",
            "| [0.01, 0.05, 0.1, 0.2, 0.3, 0.4] | 500    | 0.8570648947766103  |\n",
            "| [0.01, 0.05, 0.1, 0.2, 0.3, 0.4] | 1000    | 0.8570648947765988  |\n",
            "| [0.01, 0.05, 0.1, 0.2, 0.3, 0.4] | 1500    | 0.8570648947768291  |\n",
            "| [0.01, 0.05, 0.1, 0.2, 0.3, 0.4] | 2000    | 0.857064894776737  |\n",
            "| [0.01, 0.05, 0.1, 0.2, 0.3, 0.4] | 2500    | 0.8570648947766448  |\n",
            "| [0.01, 0.05, 0.1, 0.2, 0.3, 0.4] | 3000    | 0.8570648947764604  |\n",
            "| [0.01, 0.05, 0.1, 0.2, 0.3, 0.4] | 500    | 0.8570648947766333  |\n",
            "| [0.01, 0.05, 0.1, 0.2, 0.3, 0.4] | 1000    | 0.8570648947765527  |\n",
            "| [0.01, 0.05, 0.1, 0.2, 0.3, 0.4] | 1500    | 0.8570648947763684  |\n",
            "| [0.01, 0.05, 0.1, 0.2, 0.3, 0.4] | 2000    | 0.8570648947765988  |\n",
            "| [0.01, 0.05, 0.1, 0.2, 0.3, 0.4] | 2500    | 0.8570648947770595  |\n",
            "| [0.01, 0.05, 0.1, 0.2, 0.3, 0.4] | 3000    | 0.8570648947766909  |\n",
            "| [0.01, 0.05, 0.1, 0.2, 0.3, 0.4] | 500    | 0.8570648947765757  |\n",
            "| [0.01, 0.05, 0.1, 0.2, 0.3, 0.4] | 1000    | 0.8570648947765527  |\n",
            "| [0.01, 0.05, 0.1, 0.2, 0.3, 0.4] | 1500    | 0.8570648947765988  |\n",
            "| [0.01, 0.05, 0.1, 0.2, 0.3, 0.4] | 2000    | 0.8570648947765066  |\n",
            "| [0.01, 0.05, 0.1, 0.2, 0.3, 0.4] | 2500    | 0.8570648947764145  |\n",
            "| [0.01, 0.05, 0.1, 0.2, 0.3, 0.4] | 3000    | 0.8570648947760459  |\n",
            " -------------------------------------------\n"
          ],
          "name": "stdout"
        }
      ]
    },
    {
      "cell_type": "code",
      "metadata": {
        "id": "MFiMBrUxrK6s",
        "colab_type": "code",
        "colab": {}
      },
      "source": [
        "# # history_petrol = []\n",
        "# print(\"Consumo de Petróleo\")\n",
        "# print(\" -------------------------------------------\")\n",
        "# print(\"| Tasa de Aprendizaje | Iteraciones | RMSE |\")\n",
        "# print(\" -------------------------------------------\")\n",
        "# # for his in history_v:  \n",
        "# #   print(\"| \" + str(his[0]) +                \" | \" + str(his[1]) + \"    | \" + str(his[2]) + \"  |\")\n",
        "# for learning_rate in learning_rate_v:\n",
        "#   for iterations in iterations_v:\n",
        "#     history = lineal_regression_model(petrol_X_train, petrol_Y_train, petrol_X_val, petrol_Y_val, learning_rate, iterations)\n",
        "#     # history_petrol.append([learning_rate, iterations, history[-1].item(2)])\n",
        "#     print(\"| \" + str(learning_rate) +                \" | \" + str(iterations) + \"    | \" + str(history[-1].item(2)) + \"  |\")\n",
        "# print(\" -------------------------------------------\")\n",
        "\n",
        "# # print(history_petrol)"
      ],
      "execution_count": 0,
      "outputs": []
    },
    {
      "cell_type": "code",
      "metadata": {
        "id": "VdYrImJ28lRM",
        "colab_type": "code",
        "outputId": "2a8ce19f-2e92-47d3-ee83-664f9441f327",
        "colab": {
          "base_uri": "https://localhost:8080/",
          "height": 231
        }
      },
      "source": [
        "# Grafica Datos price\n",
        "m = history_price.item((-1,0)).item(0)\n",
        "b = history_price.item((-1,1))\n",
        "\n",
        "print(\"m: \" + str(m) + \"| b: \" + str(b))\n",
        "m_history_price = history_price[:,0]\n",
        "b_history_price = history_price[:,1]\n",
        "\n",
        "fig = plt.figure()\n",
        "ax = fig.add_subplot(1, 1, 1)\n",
        "x = np.linspace(-5,5,100).T\n",
        "ax.spines['left'].set_position('center')\n",
        "ax.spines['bottom'].set_position('center')\n",
        "ax.spines['right'].set_color('none')\n",
        "ax.spines['top'].set_color('none')\n",
        "ax.xaxis.set_ticks_position('bottom')\n",
        "ax.yaxis.set_ticks_position('left')\n",
        "plt.scatter(price_X_train, price_Y_train)\n",
        "x = np.arange(-1, 2, 0.2)\n",
        "y = m * x + b\n",
        "plt.plot(x, y, '-r')\n",
        "plt.grid()\n",
        "plt.show()"
      ],
      "execution_count": 104,
      "outputs": [
        {
          "output_type": "error",
          "ename": "AttributeError",
          "evalue": "ignored",
          "traceback": [
            "\u001b[0;31m---------------------------------------------------------------------------\u001b[0m",
            "\u001b[0;31mAttributeError\u001b[0m                            Traceback (most recent call last)",
            "\u001b[0;32m<ipython-input-104-ddcd0b39f5b5>\u001b[0m in \u001b[0;36m<module>\u001b[0;34m()\u001b[0m\n\u001b[0;32m----> 1\u001b[0;31m \u001b[0mm\u001b[0m \u001b[0;34m=\u001b[0m \u001b[0mhistory_price\u001b[0m\u001b[0;34m.\u001b[0m\u001b[0mitem\u001b[0m\u001b[0;34m(\u001b[0m\u001b[0;34m(\u001b[0m\u001b[0;34m-\u001b[0m\u001b[0;36m1\u001b[0m\u001b[0;34m,\u001b[0m\u001b[0;36m0\u001b[0m\u001b[0;34m)\u001b[0m\u001b[0;34m)\u001b[0m\u001b[0;34m.\u001b[0m\u001b[0mitem\u001b[0m\u001b[0;34m(\u001b[0m\u001b[0;36m0\u001b[0m\u001b[0;34m)\u001b[0m\u001b[0;34m\u001b[0m\u001b[0;34m\u001b[0m\u001b[0m\n\u001b[0m\u001b[1;32m      2\u001b[0m \u001b[0mb\u001b[0m \u001b[0;34m=\u001b[0m \u001b[0mhistory_price\u001b[0m\u001b[0;34m.\u001b[0m\u001b[0mitem\u001b[0m\u001b[0;34m(\u001b[0m\u001b[0;34m(\u001b[0m\u001b[0;34m-\u001b[0m\u001b[0;36m1\u001b[0m\u001b[0;34m,\u001b[0m\u001b[0;36m1\u001b[0m\u001b[0;34m)\u001b[0m\u001b[0;34m)\u001b[0m\u001b[0;34m\u001b[0m\u001b[0;34m\u001b[0m\u001b[0m\n\u001b[1;32m      3\u001b[0m \u001b[0;34m\u001b[0m\u001b[0m\n\u001b[1;32m      4\u001b[0m \u001b[0mprint\u001b[0m\u001b[0;34m(\u001b[0m\u001b[0;34m\"m: \"\u001b[0m \u001b[0;34m+\u001b[0m \u001b[0mstr\u001b[0m\u001b[0;34m(\u001b[0m\u001b[0mm\u001b[0m\u001b[0;34m)\u001b[0m \u001b[0;34m+\u001b[0m \u001b[0;34m\"| b: \"\u001b[0m \u001b[0;34m+\u001b[0m \u001b[0mstr\u001b[0m\u001b[0;34m(\u001b[0m\u001b[0mb\u001b[0m\u001b[0;34m)\u001b[0m\u001b[0;34m)\u001b[0m\u001b[0;34m\u001b[0m\u001b[0;34m\u001b[0m\u001b[0m\n\u001b[1;32m      5\u001b[0m \u001b[0mm_history_price\u001b[0m \u001b[0;34m=\u001b[0m \u001b[0mhistory_price\u001b[0m\u001b[0;34m[\u001b[0m\u001b[0;34m:\u001b[0m\u001b[0;34m,\u001b[0m\u001b[0;36m0\u001b[0m\u001b[0;34m]\u001b[0m\u001b[0;34m\u001b[0m\u001b[0;34m\u001b[0m\u001b[0m\n",
            "\u001b[0;31mAttributeError\u001b[0m: 'list' object has no attribute 'item'"
          ]
        }
      ]
    },
    {
      "cell_type": "code",
      "metadata": {
        "id": "Ir52tfTanJEp",
        "colab_type": "code",
        "colab": {}
      },
      "source": [
        "# Ecuacion Normal price\n",
        "X_1 = np.array([np.ones(np.shape(price_X_train)[0]), price_X_train]).T\n",
        "B = np.linalg.inv(X_1.T @ X_1) @ X_1.T @ price_Y_train.T\n",
        "m = B[1]\n",
        "b = B[0]\n",
        "print(\"m:\" +  str(B[1]))\n",
        "print(\"b:\" +  str(B[0]))\n",
        "\n",
        "fig = plt.figure()\n",
        "ax = fig.add_subplot(1, 1, 1)\n",
        "x = np.linspace(-5,5,100)\n",
        "ax.spines['left'].set_position('center')\n",
        "ax.spines['bottom'].set_position('center')\n",
        "ax.spines['right'].set_color('none')\n",
        "ax.spines['top'].set_color('none')\n",
        "ax.xaxis.set_ticks_position('bottom')\n",
        "ax.yaxis.set_ticks_position('left')\n",
        "plt.scatter(price_X_train, price_Y_train)\n",
        "x = np.arange(-1, 2, 0.2)\n",
        "y = m * x + b\n",
        "plt.plot(x, y, '-r')\n",
        "plt.grid()\n",
        "plt.show()"
      ],
      "execution_count": 0,
      "outputs": []
    },
    {
      "cell_type": "code",
      "metadata": {
        "id": "Vd0Dfrg_CdH6",
        "colab_type": "code",
        "colab": {}
      },
      "source": [
        "# Grafica Datos ocean\n",
        "m = history_ocean.item((-1,0)).item(0)\n",
        "b = history_ocean.item((-1,1))\n",
        "\n",
        "print(\"m: \" + str(m) + \"| b: \" + str(b))\n",
        "m_history_ocean = history_ocean[:,0]\n",
        "b_history_ocean = history_ocean[:,1]\n",
        "\n",
        "fig = plt.figure()\n",
        "ax = fig.add_subplot(1, 1, 1)\n",
        "x = np.linspace(-5,5,100).T\n",
        "ax.spines['left'].set_position('center')\n",
        "ax.spines['bottom'].set_position('center')\n",
        "ax.spines['right'].set_color('none')\n",
        "ax.spines['top'].set_color('none')\n",
        "ax.xaxis.set_ticks_position('bottom')\n",
        "ax.yaxis.set_ticks_position('left')\n",
        "plt.scatter(ocean_X_train, ocean_Y_train)\n",
        "x = np.arange(-1, 2, 0.2)\n",
        "y = m * x + b\n",
        "plt.plot(x, y, '-r')\n",
        "plt.grid()\n",
        "plt.show()"
      ],
      "execution_count": 0,
      "outputs": []
    },
    {
      "cell_type": "code",
      "metadata": {
        "id": "njDvqK-pCigy",
        "colab_type": "code",
        "colab": {}
      },
      "source": [
        "# Ecuacion Normal ocean\n",
        "X_1 = np.array([np.ones(np.shape(ocean_X_train)[0]), ocean_X_train]).T\n",
        "B = np.linalg.inv(X_1.T @ X_1) @ X_1.T @ ocean_Y_train.T\n",
        "m = B[1]\n",
        "b = B[0]\n",
        "print(\"m:\" +  str(B[1]))\n",
        "print(\"b:\" +  str(B[0]))\n",
        "\n",
        "fig = plt.figure()\n",
        "ax = fig.add_subplot(1, 1, 1)\n",
        "x = np.linspace(-5,5,100)\n",
        "ax.spines['left'].set_position('center')\n",
        "ax.spines['bottom'].set_position('center')\n",
        "ax.spines['right'].set_color('none')\n",
        "ax.spines['top'].set_color('none')\n",
        "ax.xaxis.set_ticks_position('bottom')\n",
        "ax.yaxis.set_ticks_position('left')\n",
        "plt.scatter(ocean_X_train, ocean_Y_train)\n",
        "x = np.arange(-1, 2, 0.2)\n",
        "y = m * x + b\n",
        "plt.plot(x, y, '-r')\n",
        "plt.grid()\n",
        "plt.show()"
      ],
      "execution_count": 0,
      "outputs": []
    }
  ]
}