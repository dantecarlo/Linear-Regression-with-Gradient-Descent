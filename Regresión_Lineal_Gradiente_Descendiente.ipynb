{
  "nbformat": 4,
  "nbformat_minor": 0,
  "metadata": {
    "colab": {
      "name": "Regresión Lineal Gradiente Descendiente.ipynb",
      "provenance": [],
      "collapsed_sections": [],
      "mount_file_id": "1td656iqfqH83lyRCWROvJ9OEfLvTT9Wu",
      "authorship_tag": "ABX9TyMTjA2TiAYk4qfDY+TBQJG+",
      "include_colab_link": true
    },
    "kernelspec": {
      "name": "python3",
      "display_name": "Python 3"
    }
  },
  "cells": [
    {
      "cell_type": "markdown",
      "metadata": {
        "id": "view-in-github",
        "colab_type": "text"
      },
      "source": [
        "<a href=\"https://colab.research.google.com/github/dantecarlo/Linear-Regression-with-Gradient-Descent/blob/master/Regresi%C3%B3n_Lineal_Gradiente_Descendiente.ipynb\" target=\"_parent\"><img src=\"https://colab.research.google.com/assets/colab-badge.svg\" alt=\"Open In Colab\"/></a>"
      ]
    },
    {
      "cell_type": "code",
      "metadata": {
        "id": "5yiUzJh2-C1Y",
        "colab_type": "code",
        "colab": {}
      },
      "source": [
        "#Importando librerias neceserias\n",
        "import numpy as np\n",
        "import pandas as pd\n",
        "\n",
        "import sklearn\n",
        "\n",
        "import matplotlib.pyplot as plt"
      ],
      "execution_count": 0,
      "outputs": []
    },
    {
      "cell_type": "code",
      "metadata": {
        "id": "in6fJUMyg45k",
        "colab_type": "code",
        "colab": {}
      },
      "source": [
        "#Encontrar hypothesis\n",
        "def hypothesis(X, Theta):\n",
        "  h = np.dot(Theta.T, X.T).T\n",
        "  return h "
      ],
      "execution_count": 0,
      "outputs": []
    },
    {
      "cell_type": "code",
      "metadata": {
        "id": "-Cpa1cpHg66t",
        "colab_type": "code",
        "colab": {}
      },
      "source": [
        "# Definir la funcion de Costo\n",
        "def cost_function(h, y, m):\n",
        "  J = (1 / (2 * m)) * np.sum(np.square(h-y))\n",
        "  return J"
      ],
      "execution_count": 0,
      "outputs": []
    },
    {
      "cell_type": "code",
      "metadata": {
        "id": "rCt-XzQZES5S",
        "colab_type": "code",
        "colab": {}
      },
      "source": [
        "#  Gradient Descent Univariada\n",
        "# def gradient_descent_uni(x, y, iterations = 10000, learning_rate = 0.01):\n",
        "#   grad = np.empty([1,3])\n",
        "#   m_current = b_current = 0\n",
        "#   n = len(x)\n",
        "#   plt.scatter(x, y , marker = '+', alpha = 0.8, color=\"blue\")\n",
        "#   for _ in range(iterations):\n",
        "#     y_predicted = func(x, m_current, b_current)\n",
        "    \n",
        "#     if( _ % 100 == 0 ):\n",
        "#       plt.scatter(x, y , marker = '+', alpha = 0.8, color=\"blue\")\n",
        "#       plt.plot(x, y_predicted, color = 'red')\n",
        "\n",
        "#     cost = (1/n) * sum([val**2 for val in (y - y_predicted)])\n",
        "\n",
        "#     md = -(2/n) * np.sum(x * (y - y_predicted))\n",
        "#     bd = -(2/n) * np.sum((y - y_predicted))\n",
        "\n",
        "#     m_current = m_current - learning_rate * md\n",
        "#     b_current = b_current - learning_rate * bd\n",
        "#     # print (\"m {}, b {}, cost {}\".format(m_current,b_current,cost))\n",
        "#     # plt.plot(_, cost, \".\" ,  color = 'red')\n",
        "#     grad = np.append(grad, [[m_current, b_current, cost]], axis = 0)\n",
        "#   # print(grad)\n",
        "#   return grad"
      ],
      "execution_count": 0,
      "outputs": []
    },
    {
      "cell_type": "code",
      "metadata": {
        "id": "InzuhSK7g-q6",
        "colab_type": "code",
        "colab": {}
      },
      "source": [
        "# Gradiente descendente\n",
        "def gradient_descent(X, y, Theta, m, h, learning_rate):\n",
        "  Theta = Theta - (learning_rate * (1 / m) * np.sum( np.dot(X.T,(h - y))))\n",
        "  return Theta"
      ],
      "execution_count": 0,
      "outputs": []
    },
    {
      "cell_type": "code",
      "metadata": {
        "id": "yfZcKHwDhANK",
        "colab_type": "code",
        "colab": {}
      },
      "source": [
        "# L.R.model\n",
        "def lineal_regression_model(X, y, learning_rate, iterations, draw = 0):\n",
        "  m = y.shape[0]\n",
        "  # print(\"m\", m)\n",
        "  \n",
        "  if len(X.shape) == 1:\n",
        "     X = np.array([X]).T\n",
        "  # print(np.ones((X.shape[0],1)))\n",
        "\n",
        "  # Añadir X0 = 1\n",
        "  X = np.append(np.ones((X.shape[0],1)), X, axis=1)\n",
        "\n",
        "  # print(X)\n",
        "  # inicializando Theta\n",
        "  # Theta = np.zeros((X.shape[1], 1))\n",
        "  Theta = np.random.randn(X.shape[1], 1)\n",
        "  # print(Theta)\n",
        "  \n",
        "  costs = []\n",
        "  history_values = []\n",
        "\n",
        "  # Iteraciones\n",
        "  for i in range(0, iterations):\n",
        "    # print(\"X\", np.shape(X))\n",
        "    # print(\"Theta\", np.shape(Theta))\n",
        "\n",
        "    h = hypothesis(X, Theta)\n",
        "    # print(\"h\", np.shape(h))\n",
        "    # print(h)\n",
        "    # print(\"y\", np.shape(y))\n",
        "    cost = cost_function(h, y, m)\n",
        "    # print(\"costo:\", cost)\n",
        "    Theta = gradient_descent(X, y, Theta, m, h, learning_rate)\n",
        "    # print(Theta)\n",
        "    RMSE = np.sqrt((1 / m) * np.sum(np.square(h - y)))\n",
        "    history_values.append([Theta, RMSE])\n",
        "    costs.append(cost)\n",
        "\n",
        "\n",
        "  if draw :\n",
        "    x = range(0, iterations)\n",
        "    plt.plot(x ,costs)\n",
        "    plt.xlabel(\"Iterations(per tens)\")\n",
        "    plt.ylabel(\"Training cost\")\n",
        "    plt.title(\"Learning rate\" + str(learning_rate))\n",
        "    plt.grid()\n",
        "    plt.show()\n",
        "  history_values = np.array(history_values)\n",
        "  return history_values, costs_train"
      ],
      "execution_count": 0,
      "outputs": []
    },
    {
      "cell_type": "code",
      "metadata": {
        "id": "o9dSZrhS-S7U",
        "colab_type": "code",
        "colab": {}
      },
      "source": [
        "# Importando data\n",
        "price = pd.read_csv(\"/content/drive/My Drive/Cursos/TIA/Regresion Lineal con Gradiente Descendiente/ex1data2(Home_1f).csv\", sep='\\t')\n",
        "ocean = pd.read_csv(\"/content/drive/My Drive/Cursos/TIA/Regresion Lineal con Gradiente Descendiente/oceano_simple.csv\", sep='\\t')\n",
        "petrol = pd.read_csv(\"/content/drive/My Drive/Cursos/TIA/Regresion Lineal con Gradiente Descendiente/petrol_consumption.csv\", sep='\\t')"
      ],
      "execution_count": 0,
      "outputs": []
    },
    {
      "cell_type": "code",
      "metadata": {
        "id": "vUpfmDouFydU",
        "colab_type": "code",
        "colab": {}
      },
      "source": [
        "# Transformando a np.array\n",
        "price_X = np.array(price[\"Size_(m2)\"])\n",
        "price_Y = np.array(price[\"Price\"])\n",
        "\n",
        "ocean_X = np.array(ocean[\"Sal\"])\n",
        "ocean_Y = np.array(ocean[\"Temp\"])\n",
        "\n",
        "petrol_X = np.array(petrol[[\"Petrol_tax\", \"Average_income\", \"Paved_Highways\", \"Population_Driver_licence(%)\"]])\n",
        "petrol_Y = np.array(petrol[\"Petrol_Consumption\"])"
      ],
      "execution_count": 0,
      "outputs": []
    },
    {
      "cell_type": "code",
      "metadata": {
        "id": "PMpANHTubZDl",
        "colab_type": "code",
        "colab": {}
      },
      "source": [
        "# Funcion de regularizacion\n",
        "def regularization(matrx):\n",
        "  matrx = (matrx - np.mean(matrx)) / (np.std(matrx))\n",
        "  # matrx = (matrx - np.mean(matrx)) / (np.max(matrx) - np.min(matrx))\n",
        "  return matrx"
      ],
      "execution_count": 0,
      "outputs": []
    },
    {
      "cell_type": "code",
      "metadata": {
        "id": "ZBnfUwxla28F",
        "colab_type": "code",
        "outputId": "ba62fa3f-d2ea-4add-db2c-af39285e7fc4",
        "colab": {
          "base_uri": "https://localhost:8080/",
          "height": 51
        }
      },
      "source": [
        "# Normalizar valores\n",
        "price_X = regularization(price_X)\n",
        "price_Y = regularization(price_Y)\n",
        "\n",
        "ocean_X = regularization(ocean_X)\n",
        "ocean_Y = regularization(ocean_Y)\n",
        "\n",
        "petrol_X = regularization(petrol_X)\n",
        "petrol_Y = regularization(petrol_Y)\n",
        "\n",
        "print(np.mean(ocean_X))\n",
        "print(np.std(ocean_X))"
      ],
      "execution_count": 661,
      "outputs": [
        {
          "output_type": "stream",
          "text": [
            "-3.89072489925318e-15\n",
            "0.9999999999999999\n"
          ],
          "name": "stdout"
        }
      ]
    },
    {
      "cell_type": "code",
      "metadata": {
        "id": "Xyc4RG3ksXmy",
        "colab_type": "code",
        "colab": {}
      },
      "source": [
        "# Dividiendo training set && validation set\n",
        "from sklearn.model_selection import train_test_split\n",
        "\n",
        "price_X_train, price_X_val, price_Y_train, price_Y_val = train_test_split(price_X, price_Y, test_size = 0.33, random_state = 5)\n",
        "ocean_X_train, ocean_X_val, ocean_Y_train, ocean_Y_val = train_test_split(ocean_X, ocean_Y, test_size = 0.33, random_state = 5)\n",
        "petrol_X_train, petrol_X_val, petrol_Y_train, petrol_Y_val = train_test_split(petrol_X, petrol_Y, test_size = 0.33, random_state = 5)"
      ],
      "execution_count": 0,
      "outputs": []
    },
    {
      "cell_type": "code",
      "metadata": {
        "id": "Bcbjvphft18a",
        "colab_type": "code",
        "colab": {}
      },
      "source": [
        "# Rectificando datos\n",
        "price_X_train = price_X_train\n",
        "price_Y_train = np.array([price_Y_train]).T\n",
        "\n",
        "price_X_val = price_X_val\n",
        "price_Y_val = np.array([price_Y_val]).T\n",
        "\n",
        "ocean_X_train = ocean_X_train\n",
        "ocean_Y_train = np.array([ocean_Y_train]).T\n",
        "\n",
        "ocean_X_val = ocean_X_val\n",
        "ocean_Y_val = np.array([ocean_Y_val]).T\n",
        "\n",
        "petrol_X_train = petrol_X_train\n",
        "petrol_Y_train = np.array([petrol_Y_train]).T\n",
        "\n",
        "petrol_X_val = petrol_X_val\n",
        "petrol_Y_val = np.array([petrol_Y_val]).T"
      ],
      "execution_count": 0,
      "outputs": []
    },
    {
      "cell_type": "code",
      "metadata": {
        "id": "WWzwEuHYLsnT",
        "colab_type": "code",
        "outputId": "ac8a7997-8b11-4380-8bff-c025654c36fa",
        "colab": {
          "base_uri": "https://localhost:8080/",
          "height": 902
        }
      },
      "source": [
        "# Llamando a la regresion lineal\n",
        "learning_rate = 0.01\n",
        "iterations = 3000\n",
        "print(\"Precio Viviendas\")\n",
        "history_price, costs_train = lineal_regression_model(price_X_train, price_Y_train, learning_rate, iterations, 1)\n",
        "print(\"Temperatura Oceánica\")\n",
        "history_ocean, costs_train = lineal_regression_model(ocean_X_train, ocean_Y_train, learning_rate, iterations, 1)\n",
        "print(\"Consumo de Petroleo\")\n",
        "history_petrol, costs_train = lineal_regression_model(petrol_X_train, petrol_Y_train, learning_rate, iterations, 1)"
      ],
      "execution_count": 667,
      "outputs": [
        {
          "output_type": "stream",
          "text": [
            "Precio Viviendas\n"
          ],
          "name": "stdout"
        },
        {
          "output_type": "display_data",
          "data": {
            "image/png": "[encoded data removed]",
            "text/plain": [
              "<Figure size 432x288 with 1 Axes>"
            ]
          },
          "metadata": {
            "tags": [],
            "needs_background": "light"
          }
        },
        {
          "output_type": "stream",
          "text": [
            "Temperatura Oceánica\n"
          ],
          "name": "stdout"
        },
        {
          "output_type": "display_data",
          "data": {
            "image/png": "[encoded data removed]",
            "text/plain": [
              "<Figure size 432x288 with 1 Axes>"
            ]
          },
          "metadata": {
            "tags": [],
            "needs_background": "light"
          }
        },
        {
          "output_type": "stream",
          "text": [
            "Consumo de Petroleo\n"
          ],
          "name": "stdout"
        },
        {
          "output_type": "display_data",
          "data": {
            "image/png": "[encoded data removed]",
            "text/plain": [
              "<Figure size 432x288 with 1 Axes>"
            ]
          },
          "metadata": {
            "tags": [],
            "needs_background": "light"
          }
        }
      ]
    },
    {
      "cell_type": "code",
      "metadata": {
        "id": "VdYrImJ28lRM",
        "colab_type": "code",
        "outputId": "44d510c1-9411-47b6-893c-a160660e4717",
        "colab": {
          "base_uri": "https://localhost:8080/",
          "height": 265
        }
      },
      "source": [
        "# Grafica Datos price\n",
        "# print(history_price)\n",
        "m_price = history_price[-1][0].item(1)\n",
        "b_price = history_price[-1][0].item(0)\n",
        "\n",
        "print(\"m: \" + str(m_price) + \"| b: \" + str(b_price))\n",
        "m_history_price = history_price[:,0]\n",
        "b_history_price = history_price[:,1]\n",
        "\n",
        "fig_price = plt.figure()\n",
        "ax_price = fig_price.add_subplot(1, 1, 1)\n",
        "ax_price.spines['left'].set_position('center')\n",
        "ax_price.spines['bottom'].set_position('center')\n",
        "ax_price.spines['right'].set_color('none')\n",
        "ax_price.spines['top'].set_color('none')\n",
        "ax_price.xaxis.set_ticks_position('bottom')\n",
        "ax_price.yaxis.set_ticks_position('left')\n",
        "plt.scatter(price_X, price_Y)\n",
        "x_price = np.arange(-2, 4, 0.5)\n",
        "y_price = m_price * x_price + b_price\n",
        "plt.plot(x_price, y_price, '-r')\n",
        "plt.grid()\n",
        "plt.show()"
      ],
      "execution_count": 678,
      "outputs": [
        {
          "output_type": "stream",
          "text": [
            "m: 0.6143386025260329| b: 0.2723717751243766\n"
          ],
          "name": "stdout"
        },
        {
          "output_type": "display_data",
          "data": {
            "image/png": "[encoded data removed]",
            "text/plain": [
              "<Figure size 432x288 with 1 Axes>"
            ]
          },
          "metadata": {
            "tags": [],
            "needs_background": "light"
          }
        }
      ]
    },
    {
      "cell_type": "code",
      "metadata": {
        "id": "Ir52tfTanJEp",
        "colab_type": "code",
        "outputId": "05892a5c-19fc-4dd4-99a7-29a7404cd032",
        "colab": {
          "base_uri": "https://localhost:8080/",
          "height": 282
        }
      },
      "source": [
        "# Ecuacion Normal price\n",
        "X_1_price = np.array([np.ones(np.shape(price_X_train)[0]), price_X_train]).T\n",
        "B_price = np.linalg.inv(X_1_price.T @ X_1_price) @ X_1_price.T @ price_Y_train\n",
        "m_price = B_price[1]\n",
        "b_price = B_price[0]\n",
        "print(\"m:\" +  str(m_price))\n",
        "print(\"b:\" +  str(b_price))\n",
        "\n",
        "fig_price = plt.figure()\n",
        "ax_price = fig_price.add_subplot(1, 1, 1)\n",
        "x_price = np.linspace(-5,5,100)\n",
        "ax_price.spines['left'].set_position('center')\n",
        "ax_price.spines['bottom'].set_position('center')\n",
        "ax_price.spines['right'].set_color('none')\n",
        "ax_price.spines['top'].set_color('none')\n",
        "ax_price.xaxis.set_ticks_position('bottom')\n",
        "ax_price.yaxis.set_ticks_position('left')\n",
        "plt.scatter(price_X, price_Y)\n",
        "x_price = np.arange(-2, 4, 0.5)\n",
        "y_price = m_price * x_price + b_price\n",
        "plt.plot(x_price, y_price, '-r')\n",
        "plt.grid()\n",
        "plt.show()"
      ],
      "execution_count": 681,
      "outputs": [
        {
          "output_type": "stream",
          "text": [
            "m:[0.84158228]\n",
            "b:[-0.02512726]\n"
          ],
          "name": "stdout"
        },
        {
          "output_type": "display_data",
          "data": {
            "image/png": "[encoded data removed]",
            "text/plain": [
              "<Figure size 432x288 with 1 Axes>"
            ]
          },
          "metadata": {
            "tags": [],
            "needs_background": "light"
          }
        }
      ]
    },
    {
      "cell_type": "code",
      "metadata": {
        "id": "Vd0Dfrg_CdH6",
        "colab_type": "code",
        "outputId": "c3e843e2-aaba-49b4-b614-a165693304f3",
        "colab": {
          "base_uri": "https://localhost:8080/",
          "height": 268
        }
      },
      "source": [
        "# Grafica Datos ocean\n",
        "m_ocean = history_ocean[-1][0].item(1)\n",
        "b_ocean = history_ocean[-1][0].item(0)\n",
        "\n",
        "print(\"m: \" + str(m) + \"| b: \" + str(b))\n",
        "m_history_ocean = history_ocean[:,0]\n",
        "b_history_ocean = history_ocean[:,1]\n",
        "\n",
        "fig = plt.figure()\n",
        "ax = fig.add_subplot(1, 1, 1)\n",
        "x = np.linspace(-5,5,100).T\n",
        "ax.spines['left'].set_position('center')\n",
        "ax.spines['bottom'].set_position('center')\n",
        "ax.spines['right'].set_color('none')\n",
        "ax.spines['top'].set_color('none')\n",
        "ax.xaxis.set_ticks_position('bottom')\n",
        "ax.yaxis.set_ticks_position('left')\n",
        "plt.scatter(ocean_X_train, ocean_Y_train)\n",
        "x_ocean = np.arange(-2, 4, 0.5)\n",
        "y_ocean = m_ocean * x_ocean + b_ocean\n",
        "plt.plot(x_ocean, y_ocean, '-r')\n",
        "plt.grid()\n",
        "plt.show()"
      ],
      "execution_count": 646,
      "outputs": [
        {
          "output_type": "stream",
          "text": [
            "m: 0.6326911373966844| b: 0.24834531394827475\n"
          ],
          "name": "stdout"
        },
        {
          "output_type": "display_data",
          "data": {
            "image/png": "[encoded data removed]",
            "text/plain": [
              "<Figure size 432x288 with 1 Axes>"
            ]
          },
          "metadata": {
            "tags": [],
            "needs_background": "light"
          }
        }
      ]
    },
    {
      "cell_type": "code",
      "metadata": {
        "id": "njDvqK-pCigy",
        "colab_type": "code",
        "outputId": "624969ce-eacf-4153-e826-758877e8148c",
        "colab": {
          "base_uri": "https://localhost:8080/",
          "height": 284
        }
      },
      "source": [
        "# Ecuacion Normal ocean\n",
        "X_1_ocean = np.array([np.ones(np.shape(ocean_X_train)[0]), ocean_X_train]).T\n",
        "B_ocean = np.linalg.inv(X_1_ocean.T @ X_1_ocean) @ X_1_ocean.T @ ocean_Y_train\n",
        "m_ocean = B_ocean[1]\n",
        "b_ocean = B_ocean[0]\n",
        "print(\"m:\" +  str(m_ocean))\n",
        "print(\"b:\" +  str(b_ocean))\n",
        "\n",
        "fig_ocean = plt.figure()\n",
        "ax_ocean = fig_ocean.add_subplot(1, 1, 1)\n",
        "x_ocean = np.linspace(-5,5,100)\n",
        "ax_ocean.spines['left'].set_position('center')\n",
        "ax_ocean.spines['bottom'].set_position('center')\n",
        "ax_ocean.spines['right'].set_color('none')\n",
        "ax_ocean.spines['top'].set_color('none')\n",
        "ax_ocean.xaxis.set_ticks_position('bottom')\n",
        "ax_ocean.yaxis.set_ticks_position('left')\n",
        "plt.scatter(ocean_X_train, ocean_Y_train)\n",
        "x_ocean = np.arange(-2, 4, 0.5)\n",
        "y_ocean = m_ocean * x_ocean + b_ocean\n",
        "plt.plot(x_ocean, y_ocean, '-r')\n",
        "plt.grid()\n",
        "plt.show()"
      ],
      "execution_count": 647,
      "outputs": [
        {
          "output_type": "stream",
          "text": [
            "m:[-0.91312856]\n",
            "b:[-0.00860397]\n"
          ],
          "name": "stdout"
        },
        {
          "output_type": "display_data",
          "data": {
            "image/png": "[encoded data removed]",
            "text/plain": [
              "<Figure size 432x288 with 1 Axes>"
            ]
          },
          "metadata": {
            "tags": [],
            "needs_background": "light"
          }
        }
      ]
    },
    {
      "cell_type": "code",
      "metadata": {
        "id": "juen9b34s_Oi",
        "colab_type": "code",
        "outputId": "13787a6f-9da7-46dc-d2f0-62dcc6d4c16b",
        "colab": {
          "base_uri": "https://localhost:8080/",
          "height": 102
        }
      },
      "source": [
        "# Ecuacion Normal petrol\n",
        "# X_1_petrol = np.array([np.ones(np.shape(petrol_X_train)[0]), petrol_X_train]).T\n",
        "X_1_petrol = np.append(np.ones((petrol_X_train.shape[0],1)), petrol_X_train, axis=1)\n",
        "B_petrol = np.linalg.inv(X_1_petrol.T @ X_1_petrol) @ X_1_petrol.T @ petrol_Y_train\n",
        "print(B_petrol)"
      ],
      "execution_count": 648,
      "outputs": [
        {
          "output_type": "stream",
          "text": [
            "[[ 3.05075672e+04]\n",
            " [-1.13338355e+03]\n",
            " [-1.81049051e+00]\n",
            " [-1.45128728e-01]\n",
            " [ 3.90205259e+04]]\n"
          ],
          "name": "stdout"
        }
      ]
    },
    {
      "cell_type": "code",
      "metadata": {
        "id": "qsz0VjOJan1u",
        "colab_type": "code",
        "outputId": "d86ead16-5534-4e03-d677-781d8f4590e2",
        "colab": {
          "base_uri": "https://localhost:8080/",
          "height": 102
        }
      },
      "source": [
        "# Tabla RMSE\n",
        "print(\" ----------------------------------------------------------------------------\")\n",
        "print(\"|          | Precio Viviendas   | Temperatura Oceanica | Consumo de Petróleo |\")\n",
        "print(\" ----------------------------------------------------------------------------\")\n",
        "print(\"|   RMSE   | \" + str(history_price[-1][1]) + \" | \" + str(history_ocean[-1][1]) + \"   | \" + str(history_petrol[-1][1]) + \"  |\")\n",
        "print(\" ----------------------------------------------------------------------------\")\n"
      ],
      "execution_count": 649,
      "outputs": [
        {
          "output_type": "stream",
          "text": [
            " ----------------------------------------------------------------------------\n",
            "|          | Precio Viviendas   | Temperatura Oceanica | Consumo de Petróleo |\n",
            " ----------------------------------------------------------------------------\n",
            "|   RMSE   | 0.4904708269869424 | 0.5204166692345764   | 1.247352012633902  |\n",
            " ----------------------------------------------------------------------------\n"
          ],
          "name": "stdout"
        }
      ]
    },
    {
      "cell_type": "code",
      "metadata": {
        "id": "YzCROu3dee5S",
        "colab_type": "code",
        "outputId": "0119d8d1-1ff4-44d6-dca0-065d3c4021f8",
        "colab": {
          "base_uri": "https://localhost:8080/",
          "height": 88
        }
      },
      "source": [
        "# Hiperparametros Optimos\n",
        "learning_rate_v = [0.01, 0.05, 0.1, 0.2, 0.3, 0.4]\n",
        "iterations_v = [*range(500, 3500, 500)]\n",
        "history_price = []\n",
        "\n",
        "for learning_rate in learning_rate_v:\n",
        "  for iterations in iterations_v:\n",
        "    history, cost = lineal_regression_model(price_X_train, price_Y_train, learning_rate, iterations)\n",
        "    history_price.append([learning_rate, iterations, history[-1][1]])\n",
        "\n",
        "print(history_price)\n",
        "\n",
        "history_ocean = []\n",
        "\n",
        "for learning_rate in learning_rate_v:\n",
        "  for iterations in iterations_v:\n",
        "    history, cost = lineal_regression_model(ocean_X_train, ocean_Y_train, learning_rate, iterations)\n",
        "    history_ocean.append([learning_rate, iterations, history[-1][1]])\n",
        "\n",
        "print(history_ocean)\n",
        "\n",
        "history_petrol = []\n",
        "\n",
        "for learning_rate in learning_rate_v:\n",
        "  for iterations in iterations_v:\n",
        "    history, cost = lineal_regression_model(petrol_X_train, petrol_Y_train, learning_rate, iterations)\n",
        "    history_petrol.append([learning_rate, iterations, history[-1][1]])\n",
        "\n",
        "print(history_petrol)\n"
      ],
      "execution_count": 650,
      "outputs": [
        {
          "output_type": "stream",
          "text": [
            "[[0.01, 500, 1.1466465115961244], [0.01, 1000, 0.5390220678748275], [0.01, 1500, 1.0502907567172524], [0.01, 2000, 0.6966226912667793], [0.01, 2500, 1.7174151074937722], [0.01, 3000, 0.8676423462517174], [0.05, 500, 0.4551346240780463], [0.05, 1000, 1.84782468724158], [0.05, 1500, 0.5548634919934088], [0.05, 2000, 0.4555428474233224], [0.05, 2500, 0.5013824041648749], [0.05, 3000, 0.9780762944833996], [0.1, 500, 0.43425107786652], [0.1, 1000, 0.4575581554648573], [0.1, 1500, 3.2195827456161954], [0.1, 2000, 3.2406994551370025], [0.1, 2500, 0.9997445436410127], [0.1, 3000, 0.709215384663809], [0.2, 500, 1.49939938713168], [0.2, 1000, 1.0709921973027041], [0.2, 1500, 1.5939862428727405], [0.2, 2000, 0.47459193037683056], [0.2, 2500, 0.7049388050107662], [0.2, 3000, 0.8552977592871268], [0.3, 500, 0.6385498585056776], [0.3, 1000, 1.0733056145566728], [0.3, 1500, 0.479810812478844], [0.3, 2000, 1.8057389389396805], [0.3, 2500, 2.181530618295382], [0.3, 3000, 0.5930289487702893], [0.4, 500, 0.7543967592668472], [0.4, 1000, 0.492126048299563], [0.4, 1500, 1.8499285995346928], [0.4, 2000, 0.8097545520471648], [0.4, 2500, 1.727746225900592], [0.4, 3000, 0.4345962046993103]]\n",
            "[[0.01, 500, 0.6620969635145464], [0.01, 1000, 0.7380194117086215], [0.01, 1500, 0.5680951154024209], [0.01, 2000, 0.7599619709522138], [0.01, 2500, 1.9794838861689], [0.01, 3000, 0.4573971329665825], [0.05, 500, 0.9513019041024954], [0.05, 1000, 1.2536818428465533], [0.05, 1500, 0.7578802625574199], [0.05, 2000, 1.697753285497768], [0.05, 2500, 1.631347718353224], [0.05, 3000, 0.635731455516724], [0.1, 500, 2.202361053876406], [0.1, 1000, 0.865562341885954], [0.1, 1500, 0.5063960214874482], [0.1, 2000, 1.004360080617648], [0.1, 2500, 1.3042837023649476], [0.1, 3000, 0.43748834169962497], [0.2, 500, 0.8169265338114075], [0.2, 1000, 0.5176914008920315], [0.2, 1500, 0.6119866920574752], [0.2, 2000, 0.5210239104012164], [0.2, 2500, 2.25500224815037], [0.2, 3000, 2.1528200295771263], [0.3, 500, 0.7008897371287871], [0.3, 1000, 1.4049937125546754], [0.3, 1500, 0.6943530284951368], [0.3, 2000, 0.9341641809470728], [0.3, 2500, 0.45721175832046984], [0.3, 3000, 0.5260278152550641], [0.4, 500, 0.42855923964560566], [0.4, 1000, 0.485948228784197], [0.4, 1500, 0.39980766367082016], [0.4, 2000, 0.5027784548544353], [0.4, 2500, 0.6634009004008972], [0.4, 3000, 0.912574556763689]]\n",
            "[[0.01, 500, 1.696511433153783], [0.01, 1000, 1.6423320859435953], [0.01, 1500, 1.2446657744330758], [0.01, 2000, 1.443219720827728], [0.01, 2500, 1.4640320240798324], [0.01, 3000, 1.5410947048297743], [0.05, 500, 1.0740714970101746], [0.05, 1000, 1.1697779238112618], [0.05, 1500, 1.9947591472503978], [0.05, 2000, 1.4788161361252674], [0.05, 2500, 1.031398102603429], [0.05, 3000, 2.2212038108633436], [0.1, 500, 2.1037984813681194], [0.1, 1000, 1.3894470808659305], [0.1, 1500, 1.7019043827689044], [0.1, 2000, 1.0589519285387239], [0.1, 2500, 1.260970766345592], [0.1, 3000, 1.5781041918559977], [0.2, 500, 1.3172848451683785], [0.2, 1000, 2.229667035182376], [0.2, 1500, 1.8566084455257172], [0.2, 2000, 1.0488903356082364], [0.2, 2500, 1.6702489685753037], [0.2, 3000, 1.1229667422058083], [0.3, 500, 1.7809623825837857], [0.3, 1000, 1.0470118581069376], [0.3, 1500, 1.028943309379413], [0.3, 2000, 1.6124665274684422], [0.3, 2500, 1.0541829877207063], [0.3, 3000, 1.232774072169105], [0.4, 500, 1.2926150177544553], [0.4, 1000, 1.0676155764352266], [0.4, 1500, 3.2100596895936793], [0.4, 2000, 1.043300657459082], [0.4, 2500, 1.829539283975086], [0.4, 3000, 1.6402892293544118]]\n"
          ],
          "name": "stdout"
        }
      ]
    },
    {
      "cell_type": "code",
      "metadata": {
        "id": "jMsgT-zXmGM7",
        "colab_type": "code",
        "outputId": "dab4e0e9-c8d6-46c6-b2c7-00eb4010f604",
        "colab": {
          "base_uri": "https://localhost:8080/",
          "height": 1000
        }
      },
      "source": [
        "print(\"Precio Viviendas\")\n",
        "print(\" ---------------------------------------------------------\")\n",
        "print(\"| Tasa de Aprendizaje | Iteraciones | RMSE                |\")\n",
        "print(\" ---------------------------------------------------------\")\n",
        "for his in history_price:  \n",
        "  print(\"|        \" + str(his[0]) +                \"         |     \" + str(his[1]) + \"     | \" + str(his[2]) + \"  |\")\n",
        "print(\" ---------------------------------------------------------\")\n",
        "\n",
        "print(\"Temperatura Oceanica\")\n",
        "print(\" ---------------------------------------------------------\")\n",
        "print(\"| Tasa de Aprendizaje | Iteraciones | RMSE                |\")\n",
        "print(\" ---------------------------------------------------------\")\n",
        "for his in history_ocean:  \n",
        "  print(\"|        \" + str(his[0]) +                \"         |     \" + str(his[1]) + \"     | \" + str(his[2]) + \"  |\")\n",
        "print(\" ---------------------------------------------------------\")\n",
        "\n",
        "print(\"Consumo de Petróleo\")\n",
        "print(\" ---------------------------------------------------------\")\n",
        "print(\"| Tasa de Aprendizaje | Iteraciones | RMSE                |\")\n",
        "print(\" ---------------------------------------------------------\")\n",
        "for his in history_petrol:  \n",
        "  print(\"|        \" + str(his[0]) +                \"         |     \" + str(his[1]) + \"     | \" + str(his[2]) + \"  |\")\n",
        "print(\" ---------------------------------------------------------\")"
      ],
      "execution_count": 651,
      "outputs": [
        {
          "output_type": "stream",
          "text": [
            "Precio Viviendas\n",
            " ---------------------------------------------------------\n",
            "| Tasa de Aprendizaje | Iteraciones | RMSE                |\n",
            " ---------------------------------------------------------\n",
            "|        0.01         |     500     | 1.1466465115961244  |\n",
            "|        0.01         |     1000     | 0.5390220678748275  |\n",
            "|        0.01         |     1500     | 1.0502907567172524  |\n",
            "|        0.01         |     2000     | 0.6966226912667793  |\n",
            "|        0.01         |     2500     | 1.7174151074937722  |\n",
            "|        0.01         |     3000     | 0.8676423462517174  |\n",
            "|        0.05         |     500     | 0.4551346240780463  |\n",
            "|        0.05         |     1000     | 1.84782468724158  |\n",
            "|        0.05         |     1500     | 0.5548634919934088  |\n",
            "|        0.05         |     2000     | 0.4555428474233224  |\n",
            "|        0.05         |     2500     | 0.5013824041648749  |\n",
            "|        0.05         |     3000     | 0.9780762944833996  |\n",
            "|        0.1         |     500     | 0.43425107786652  |\n",
            "|        0.1         |     1000     | 0.4575581554648573  |\n",
            "|        0.1         |     1500     | 3.2195827456161954  |\n",
            "|        0.1         |     2000     | 3.2406994551370025  |\n",
            "|        0.1         |     2500     | 0.9997445436410127  |\n",
            "|        0.1         |     3000     | 0.709215384663809  |\n",
            "|        0.2         |     500     | 1.49939938713168  |\n",
            "|        0.2         |     1000     | 1.0709921973027041  |\n",
            "|        0.2         |     1500     | 1.5939862428727405  |\n",
            "|        0.2         |     2000     | 0.47459193037683056  |\n",
            "|        0.2         |     2500     | 0.7049388050107662  |\n",
            "|        0.2         |     3000     | 0.8552977592871268  |\n",
            "|        0.3         |     500     | 0.6385498585056776  |\n",
            "|        0.3         |     1000     | 1.0733056145566728  |\n",
            "|        0.3         |     1500     | 0.479810812478844  |\n",
            "|        0.3         |     2000     | 1.8057389389396805  |\n",
            "|        0.3         |     2500     | 2.181530618295382  |\n",
            "|        0.3         |     3000     | 0.5930289487702893  |\n",
            "|        0.4         |     500     | 0.7543967592668472  |\n",
            "|        0.4         |     1000     | 0.492126048299563  |\n",
            "|        0.4         |     1500     | 1.8499285995346928  |\n",
            "|        0.4         |     2000     | 0.8097545520471648  |\n",
            "|        0.4         |     2500     | 1.727746225900592  |\n",
            "|        0.4         |     3000     | 0.4345962046993103  |\n",
            " ---------------------------------------------------------\n",
            "Temperatura Oceanica\n",
            " ---------------------------------------------------------\n",
            "| Tasa de Aprendizaje | Iteraciones | RMSE                |\n",
            " ---------------------------------------------------------\n",
            "|        0.01         |     500     | 0.6620969635145464  |\n",
            "|        0.01         |     1000     | 0.7380194117086215  |\n",
            "|        0.01         |     1500     | 0.5680951154024209  |\n",
            "|        0.01         |     2000     | 0.7599619709522138  |\n",
            "|        0.01         |     2500     | 1.9794838861689  |\n",
            "|        0.01         |     3000     | 0.4573971329665825  |\n",
            "|        0.05         |     500     | 0.9513019041024954  |\n",
            "|        0.05         |     1000     | 1.2536818428465533  |\n",
            "|        0.05         |     1500     | 0.7578802625574199  |\n",
            "|        0.05         |     2000     | 1.697753285497768  |\n",
            "|        0.05         |     2500     | 1.631347718353224  |\n",
            "|        0.05         |     3000     | 0.635731455516724  |\n",
            "|        0.1         |     500     | 2.202361053876406  |\n",
            "|        0.1         |     1000     | 0.865562341885954  |\n",
            "|        0.1         |     1500     | 0.5063960214874482  |\n",
            "|        0.1         |     2000     | 1.004360080617648  |\n",
            "|        0.1         |     2500     | 1.3042837023649476  |\n",
            "|        0.1         |     3000     | 0.43748834169962497  |\n",
            "|        0.2         |     500     | 0.8169265338114075  |\n",
            "|        0.2         |     1000     | 0.5176914008920315  |\n",
            "|        0.2         |     1500     | 0.6119866920574752  |\n",
            "|        0.2         |     2000     | 0.5210239104012164  |\n",
            "|        0.2         |     2500     | 2.25500224815037  |\n",
            "|        0.2         |     3000     | 2.1528200295771263  |\n",
            "|        0.3         |     500     | 0.7008897371287871  |\n",
            "|        0.3         |     1000     | 1.4049937125546754  |\n",
            "|        0.3         |     1500     | 0.6943530284951368  |\n",
            "|        0.3         |     2000     | 0.9341641809470728  |\n",
            "|        0.3         |     2500     | 0.45721175832046984  |\n",
            "|        0.3         |     3000     | 0.5260278152550641  |\n",
            "|        0.4         |     500     | 0.42855923964560566  |\n",
            "|        0.4         |     1000     | 0.485948228784197  |\n",
            "|        0.4         |     1500     | 0.39980766367082016  |\n",
            "|        0.4         |     2000     | 0.5027784548544353  |\n",
            "|        0.4         |     2500     | 0.6634009004008972  |\n",
            "|        0.4         |     3000     | 0.912574556763689  |\n",
            " ---------------------------------------------------------\n",
            "Consumo de Petróleo\n",
            " ---------------------------------------------------------\n",
            "| Tasa de Aprendizaje | Iteraciones | RMSE                |\n",
            " ---------------------------------------------------------\n",
            "|        0.01         |     500     | 1.696511433153783  |\n",
            "|        0.01         |     1000     | 1.6423320859435953  |\n",
            "|        0.01         |     1500     | 1.2446657744330758  |\n",
            "|        0.01         |     2000     | 1.443219720827728  |\n",
            "|        0.01         |     2500     | 1.4640320240798324  |\n",
            "|        0.01         |     3000     | 1.5410947048297743  |\n",
            "|        0.05         |     500     | 1.0740714970101746  |\n",
            "|        0.05         |     1000     | 1.1697779238112618  |\n",
            "|        0.05         |     1500     | 1.9947591472503978  |\n",
            "|        0.05         |     2000     | 1.4788161361252674  |\n",
            "|        0.05         |     2500     | 1.031398102603429  |\n",
            "|        0.05         |     3000     | 2.2212038108633436  |\n",
            "|        0.1         |     500     | 2.1037984813681194  |\n",
            "|        0.1         |     1000     | 1.3894470808659305  |\n",
            "|        0.1         |     1500     | 1.7019043827689044  |\n",
            "|        0.1         |     2000     | 1.0589519285387239  |\n",
            "|        0.1         |     2500     | 1.260970766345592  |\n",
            "|        0.1         |     3000     | 1.5781041918559977  |\n",
            "|        0.2         |     500     | 1.3172848451683785  |\n",
            "|        0.2         |     1000     | 2.229667035182376  |\n",
            "|        0.2         |     1500     | 1.8566084455257172  |\n",
            "|        0.2         |     2000     | 1.0488903356082364  |\n",
            "|        0.2         |     2500     | 1.6702489685753037  |\n",
            "|        0.2         |     3000     | 1.1229667422058083  |\n",
            "|        0.3         |     500     | 1.7809623825837857  |\n",
            "|        0.3         |     1000     | 1.0470118581069376  |\n",
            "|        0.3         |     1500     | 1.028943309379413  |\n",
            "|        0.3         |     2000     | 1.6124665274684422  |\n",
            "|        0.3         |     2500     | 1.0541829877207063  |\n",
            "|        0.3         |     3000     | 1.232774072169105  |\n",
            "|        0.4         |     500     | 1.2926150177544553  |\n",
            "|        0.4         |     1000     | 1.0676155764352266  |\n",
            "|        0.4         |     1500     | 3.2100596895936793  |\n",
            "|        0.4         |     2000     | 1.043300657459082  |\n",
            "|        0.4         |     2500     | 1.829539283975086  |\n",
            "|        0.4         |     3000     | 1.6402892293544118  |\n",
            " ---------------------------------------------------------\n"
          ],
          "name": "stdout"
        }
      ]
    }
  ]
}